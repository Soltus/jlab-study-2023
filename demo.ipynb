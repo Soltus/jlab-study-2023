{
 "cells": [
  {
   "cell_type": "code",
   "execution_count": 15,
   "id": "31cb5fe8-93ee-4dad-b90d-08cb124f51fe",
   "metadata": {
    "tags": []
   },
   "outputs": [
    {
     "name": "stdout",
     "output_type": "stream",
     "text": [
      "hello\n"
     ]
    }
   ],
   "source": [
    "print('hello')"
   ]
  },
  {
   "cell_type": "code",
   "execution_count": 5,
   "id": "aefc2b1e-6ae8-4677-a641-96e8e4297f5b",
   "metadata": {
    "tags": []
   },
   "outputs": [
    {
     "name": "stdout",
     "output_type": "stream",
     "text": [
      "0\n"
     ]
    }
   ],
   "source": [
    "print(sum([0]))"
   ]
  },
  {
   "cell_type": "code",
   "execution_count": 6,
   "id": "ca8ed317-e796-4078-8570-0acaa0978f10",
   "metadata": {},
   "outputs": [
    {
     "ename": "AttributeError",
     "evalue": "'UIBuilder' object has no attribute 'on_displayed'",
     "output_type": "error",
     "traceback": [
      "\u001b[1;31m---------------------------------------------------------------------------\u001b[0m",
      "\u001b[1;31mAttributeError\u001b[0m                            Traceback (most recent call last)",
      "Cell \u001b[1;32mIn[6], line 4\u001b[0m\n\u001b[0;32m      1\u001b[0m \u001b[38;5;28;01mimport\u001b[39;00m \u001b[38;5;21;01mnbtools\u001b[39;00m\n\u001b[0;32m      3\u001b[0m \u001b[38;5;129;43m@nbtools\u001b[39;49m\u001b[38;5;241;43m.\u001b[39;49m\u001b[43mbuild_ui\u001b[49m\n\u001b[1;32m----> 4\u001b[0m \u001b[38;5;28;43;01mdef\u001b[39;49;00m\u001b[43m \u001b[49m\u001b[38;5;21;43msay_hello\u001b[39;49m\u001b[43m(\u001b[49m\u001b[43mto_whom\u001b[49m\u001b[38;5;241;43m=\u001b[39;49m\u001b[38;5;124;43m'\u001b[39;49m\u001b[38;5;124;43mWorld\u001b[39;49m\u001b[38;5;124;43m'\u001b[39;49m\u001b[43m)\u001b[49m\u001b[43m:\u001b[49m\n\u001b[0;32m      5\u001b[0m \u001b[38;5;250;43m    \u001b[39;49m\u001b[38;5;124;43;03m\"\"\"Say hello to the world or whomever.\"\"\"\u001b[39;49;00m\n\u001b[0;32m      6\u001b[0m \u001b[43m    \u001b[49m\u001b[38;5;28;43mprint\u001b[39;49m\u001b[43m(\u001b[49m\u001b[38;5;124;43m'\u001b[39;49m\u001b[38;5;124;43mHello \u001b[39;49m\u001b[38;5;124;43m'\u001b[39;49m\u001b[43m \u001b[49m\u001b[38;5;241;43m+\u001b[39;49m\u001b[43m \u001b[49m\u001b[43mto_whom\u001b[49m\u001b[43m)\u001b[49m\n",
      "File \u001b[1;32mD:\\X-S01\\conda3\\envs\\vsc\\lib\\site-packages\\nbtools\\uibuilder.py:36\u001b[0m, in \u001b[0;36mbuild_ui.__init__\u001b[1;34m(self, *args, **kwargs)\u001b[0m\n\u001b[0;32m     34\u001b[0m \u001b[38;5;28;01mif\u001b[39;00m \u001b[38;5;28mlen\u001b[39m(args) \u001b[38;5;241m>\u001b[39m \u001b[38;5;241m0\u001b[39m:\n\u001b[0;32m     35\u001b[0m     \u001b[38;5;28mself\u001b[39m\u001b[38;5;241m.\u001b[39mfunc \u001b[38;5;241m=\u001b[39m args[\u001b[38;5;241m0\u001b[39m]                                 \u001b[38;5;66;03m# Set the function\u001b[39;00m\n\u001b[1;32m---> 36\u001b[0m     \u001b[38;5;28mself\u001b[39m\u001b[38;5;241m.\u001b[39m__widget__ \u001b[38;5;241m=\u001b[39m \u001b[43mUIBuilder\u001b[49m\u001b[43m(\u001b[49m\u001b[38;5;28;43mself\u001b[39;49m\u001b[38;5;241;43m.\u001b[39;49m\u001b[43mfunc\u001b[49m\u001b[43m)\u001b[49m              \u001b[38;5;66;03m# Set the widget\u001b[39;00m\n\u001b[0;32m     37\u001b[0m     \u001b[38;5;28mself\u001b[39m\u001b[38;5;241m.\u001b[39mfunc\u001b[38;5;241m.\u001b[39m\u001b[38;5;18m__dict__\u001b[39m[\u001b[38;5;124m\"\u001b[39m\u001b[38;5;124m__widget__\u001b[39m\u001b[38;5;124m\"\u001b[39m] \u001b[38;5;241m=\u001b[39m \u001b[38;5;28mself\u001b[39m\u001b[38;5;241m.\u001b[39m__widget__  \u001b[38;5;66;03m# Ensure function has access to widget\u001b[39;00m\n\u001b[0;32m     38\u001b[0m     \u001b[38;5;28;01mif\u001b[39;00m \u001b[38;5;28mself\u001b[39m\u001b[38;5;241m.\u001b[39m__widget__\u001b[38;5;241m.\u001b[39mregister_tool:\n",
      "File \u001b[1;32mD:\\X-S01\\conda3\\envs\\vsc\\lib\\site-packages\\nbtools\\uibuilder.py:137\u001b[0m, in \u001b[0;36mUIBuilder.__init__\u001b[1;34m(self, function_or_method, **kwargs)\u001b[0m\n\u001b[0;32m    134\u001b[0m \u001b[38;5;28mself\u001b[39m\u001b[38;5;241m.\u001b[39moutput \u001b[38;5;241m=\u001b[39m \u001b[38;5;28mself\u001b[39m\u001b[38;5;241m.\u001b[39mform\u001b[38;5;241m.\u001b[39mout\n\u001b[0;32m    136\u001b[0m \u001b[38;5;66;03m# Display the output underneath the UI Builder widget\u001b[39;00m\n\u001b[1;32m--> 137\u001b[0m \u001b[38;5;28;43mself\u001b[39;49m\u001b[38;5;241;43m.\u001b[39;49m\u001b[43mon_displayed\u001b[49m(\u001b[38;5;28;01mlambda\u001b[39;00m widget: display(widget\u001b[38;5;241m.\u001b[39moutput))\n\u001b[0;32m    139\u001b[0m \u001b[38;5;66;03m# Insert a copy of this UI Builder when added as a tool\u001b[39;00m\n\u001b[0;32m    140\u001b[0m \u001b[38;5;28mself\u001b[39m\u001b[38;5;241m.\u001b[39mload \u001b[38;5;241m=\u001b[39m \u001b[38;5;28;01mlambda\u001b[39;00m \u001b[38;5;241m*\u001b[39m\u001b[38;5;241m*\u001b[39moverride_kwargs: UIBuilder(\u001b[38;5;28mself\u001b[39m\u001b[38;5;241m.\u001b[39mfunction_or_method, \u001b[38;5;241m*\u001b[39m\u001b[38;5;241m*\u001b[39m{ \u001b[38;5;241m*\u001b[39m\u001b[38;5;241m*\u001b[39mkwargs, \u001b[38;5;241m*\u001b[39m\u001b[38;5;241m*\u001b[39moverride_kwargs})\n",
      "\u001b[1;31mAttributeError\u001b[0m: 'UIBuilder' object has no attribute 'on_displayed'"
     ]
    }
   ],
   "source": [
    "import nbtools\n",
    "\n",
    "@nbtools.build_ui\n",
    "def say_hello(to_whom='World'):\n",
    "    \"\"\"Say hello to the world or whomever.\"\"\"\n",
    "    print('Hello ' + to_whom)"
   ]
  },
  {
   "cell_type": "code",
   "execution_count": null,
   "id": "9fc24262-083e-4384-9a17-17281e98e0e5",
   "metadata": {},
   "outputs": [],
   "source": [
    "sa"
   ]
  },
  {
   "cell_type": "code",
   "execution_count": null,
   "id": "209f0b8e-a7bb-4053-8185-2e236d2d1e9a",
   "metadata": {},
   "outputs": [],
   "source": [
    "pr"
   ]
  },
  {
   "cell_type": "markdown",
   "id": "0f80732d-8db5-4d52-b871-75fe356142e1",
   "metadata": {
    "tags": []
   },
   "source": [
    "<h1>good</h1>\n",
    "<p>hhh???</p>"
   ]
  },
  {
   "cell_type": "code",
   "execution_count": null,
   "id": "a4cde51d-6995-41b9-ba08-47399bf5d276",
   "metadata": {},
   "outputs": [],
   "source": []
  },
  {
   "cell_type": "code",
   "execution_count": null,
   "id": "d5fdda93-b7ef-4b44-947c-5c88f5541303",
   "metadata": {},
   "outputs": [],
   "source": []
  }
 ],
 "metadata": {
  "kernelspec": {
   "display_name": "Python 3 (ipykernel)",
   "language": "python",
   "name": "python3"
  },
  "language_info": {
   "codemirror_mode": {
    "name": "ipython",
    "version": 3
   },
   "file_extension": ".py",
   "mimetype": "text/x-python",
   "name": "python",
   "nbconvert_exporter": "python",
   "pygments_lexer": "ipython3",
   "version": "3.9.16"
  },
  "widgets": {
   "application/vnd.jupyter.widget-state+json": {
    "state": {},
    "version_major": 2,
    "version_minor": 0
   }
  }
 },
 "nbformat": 4,
 "nbformat_minor": 5
}
