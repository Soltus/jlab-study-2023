{
 "cells": [
  {
   "cell_type": "code",
   "execution_count": 15,
   "id": "31cb5fe8-93ee-4dad-b90d-08cb124f51fe",
   "metadata": {
    "tags": []
   },
   "outputs": [
    {
     "name": "stdout",
     "output_type": "stream",
     "text": [
      "hello\n"
     ]
    }
   ],
   "source": [
    "print('hello')"
   ]
  },
  {
   "cell_type": "code",
   "execution_count": 4,
   "id": "ca8ed317-e796-4078-8570-0acaa0978f10",
   "metadata": {},
   "outputs": [
    {
     "ename": "AttributeError",
     "evalue": "'UIBuilder' object has no attribute 'on_displayed'",
     "output_type": "error",
     "traceback": [
      "\u001b[1;31m---------------------------------------------------------------------------\u001b[0m",
      "\u001b[1;31mAttributeError\u001b[0m                            Traceback (most recent call last)",
      "Cell \u001b[1;32mIn[4], line 4\u001b[0m\n\u001b[0;32m      1\u001b[0m \u001b[38;5;28;01mimport\u001b[39;00m \u001b[38;5;21;01mnbtools\u001b[39;00m\n\u001b[0;32m      3\u001b[0m \u001b[38;5;129;43m@nbtools\u001b[39;49m\u001b[38;5;241;43m.\u001b[39;49m\u001b[43mbuild_ui\u001b[49m\n\u001b[1;32m----> 4\u001b[0m \u001b[38;5;28;43;01mdef\u001b[39;49;00m\u001b[43m \u001b[49m\u001b[38;5;21;43msay_hello\u001b[39;49m\u001b[43m(\u001b[49m\u001b[43mto_whom\u001b[49m\u001b[38;5;241;43m=\u001b[39;49m\u001b[38;5;124;43m'\u001b[39;49m\u001b[38;5;124;43mWorld\u001b[39;49m\u001b[38;5;124;43m'\u001b[39;49m\u001b[43m)\u001b[49m\u001b[43m:\u001b[49m\n\u001b[0;32m      5\u001b[0m \u001b[38;5;250;43m    \u001b[39;49m\u001b[38;5;124;43;03m\"\"\"Say hello to the world or whomever.\"\"\"\u001b[39;49;00m\n\u001b[0;32m      6\u001b[0m \u001b[43m    \u001b[49m\u001b[38;5;28;43mprint\u001b[39;49m\u001b[43m(\u001b[49m\u001b[38;5;124;43m'\u001b[39;49m\u001b[38;5;124;43mHello \u001b[39;49m\u001b[38;5;124;43m'\u001b[39;49m\u001b[43m \u001b[49m\u001b[38;5;241;43m+\u001b[39;49m\u001b[43m \u001b[49m\u001b[43mto_whom\u001b[49m\u001b[43m)\u001b[49m\n",
      "File \u001b[1;32mD:\\X-S01\\conda3\\envs\\vsc\\lib\\site-packages\\nbtools\\uibuilder.py:36\u001b[0m, in \u001b[0;36mbuild_ui.__init__\u001b[1;34m(self, *args, **kwargs)\u001b[0m\n\u001b[0;32m     34\u001b[0m \u001b[38;5;28;01mif\u001b[39;00m \u001b[38;5;28mlen\u001b[39m(args) \u001b[38;5;241m>\u001b[39m \u001b[38;5;241m0\u001b[39m:\n\u001b[0;32m     35\u001b[0m     \u001b[38;5;28mself\u001b[39m\u001b[38;5;241m.\u001b[39mfunc \u001b[38;5;241m=\u001b[39m args[\u001b[38;5;241m0\u001b[39m]                                 \u001b[38;5;66;03m# Set the function\u001b[39;00m\n\u001b[1;32m---> 36\u001b[0m     \u001b[38;5;28mself\u001b[39m\u001b[38;5;241m.\u001b[39m__widget__ \u001b[38;5;241m=\u001b[39m \u001b[43mUIBuilder\u001b[49m\u001b[43m(\u001b[49m\u001b[38;5;28;43mself\u001b[39;49m\u001b[38;5;241;43m.\u001b[39;49m\u001b[43mfunc\u001b[49m\u001b[43m)\u001b[49m              \u001b[38;5;66;03m# Set the widget\u001b[39;00m\n\u001b[0;32m     37\u001b[0m     \u001b[38;5;28mself\u001b[39m\u001b[38;5;241m.\u001b[39mfunc\u001b[38;5;241m.\u001b[39m\u001b[38;5;18m__dict__\u001b[39m[\u001b[38;5;124m\"\u001b[39m\u001b[38;5;124m__widget__\u001b[39m\u001b[38;5;124m\"\u001b[39m] \u001b[38;5;241m=\u001b[39m \u001b[38;5;28mself\u001b[39m\u001b[38;5;241m.\u001b[39m__widget__  \u001b[38;5;66;03m# Ensure function has access to widget\u001b[39;00m\n\u001b[0;32m     38\u001b[0m     \u001b[38;5;28;01mif\u001b[39;00m \u001b[38;5;28mself\u001b[39m\u001b[38;5;241m.\u001b[39m__widget__\u001b[38;5;241m.\u001b[39mregister_tool:\n",
      "File \u001b[1;32mD:\\X-S01\\conda3\\envs\\vsc\\lib\\site-packages\\nbtools\\uibuilder.py:137\u001b[0m, in \u001b[0;36mUIBuilder.__init__\u001b[1;34m(self, function_or_method, **kwargs)\u001b[0m\n\u001b[0;32m    134\u001b[0m \u001b[38;5;28mself\u001b[39m\u001b[38;5;241m.\u001b[39moutput \u001b[38;5;241m=\u001b[39m \u001b[38;5;28mself\u001b[39m\u001b[38;5;241m.\u001b[39mform\u001b[38;5;241m.\u001b[39mout\n\u001b[0;32m    136\u001b[0m \u001b[38;5;66;03m# Display the output underneath the UI Builder widget\u001b[39;00m\n\u001b[1;32m--> 137\u001b[0m \u001b[38;5;28;43mself\u001b[39;49m\u001b[38;5;241;43m.\u001b[39;49m\u001b[43mon_displayed\u001b[49m(\u001b[38;5;28;01mlambda\u001b[39;00m widget: display(widget\u001b[38;5;241m.\u001b[39moutput))\n\u001b[0;32m    139\u001b[0m \u001b[38;5;66;03m# Insert a copy of this UI Builder when added as a tool\u001b[39;00m\n\u001b[0;32m    140\u001b[0m \u001b[38;5;28mself\u001b[39m\u001b[38;5;241m.\u001b[39mload \u001b[38;5;241m=\u001b[39m \u001b[38;5;28;01mlambda\u001b[39;00m \u001b[38;5;241m*\u001b[39m\u001b[38;5;241m*\u001b[39moverride_kwargs: UIBuilder(\u001b[38;5;28mself\u001b[39m\u001b[38;5;241m.\u001b[39mfunction_or_method, \u001b[38;5;241m*\u001b[39m\u001b[38;5;241m*\u001b[39m{ \u001b[38;5;241m*\u001b[39m\u001b[38;5;241m*\u001b[39mkwargs, \u001b[38;5;241m*\u001b[39m\u001b[38;5;241m*\u001b[39moverride_kwargs})\n",
      "\u001b[1;31mAttributeError\u001b[0m: 'UIBuilder' object has no attribute 'on_displayed'"
     ]
    }
   ],
   "source": [
    "import nbtools\n",
    "\n",
    "@nbtools.build_ui\n",
    "def say_hello(to_whom='World'):\n",
    "    \"\"\"Say hello to the world or whomever.\"\"\"\n",
    "    print('Hello ' + to_whom)"
   ]
  },
  {
   "cell_type": "code",
   "execution_count": 2,
   "id": "76d0dd3a-aa1e-43f8-b398-4cd62024327b",
   "metadata": {},
   "outputs": [
    {
     "ename": "SyntaxError",
     "evalue": "invalid syntax (4153759516.py, line 1)",
     "output_type": "error",
     "traceback": [
      "\u001b[1;36m  Cell \u001b[1;32mIn[2], line 1\u001b[1;36m\u001b[0m\n\u001b[1;33m    import { INotification } from 'jupyterlab_toastify';\u001b[0m\n\u001b[1;37m           ^\u001b[0m\n\u001b[1;31mSyntaxError\u001b[0m\u001b[1;31m:\u001b[0m invalid syntax\n"
     ]
    }
   ],
   "source": [
    "import { INotification } from 'jupyterlab_toastify';\n",
    "\n",
    "// Error message notification - do not close automatically\n",
    "INotification.error('Error');\n",
    "// Warning message notification - do not close automatically\n",
    "INotification.warning('Warning');\n",
    "// Info message notification\n",
    "INotification.info('Info');\n",
    "// Success message notification\n",
    "INotification.success('Success');\n",
    "\n",
    "// Background task with progression animation\n",
    "let id = await INotification.inProgress('Task in progress!');\n",
    "// -> Update text\n",
    "INotification.update({\n",
    "  toastId: id,\n",
    "  message: 'Updating task...'\n",
    "});\n",
    "// -> Update text, status and set closing delay (in ms)\n",
    "INotification.update({\n",
    "  toastId: id,\n",
    "  message: 'Task succeed',\n",
    "  type: 'success',\n",
    "  autoClose: 3000\n",
    "});\n",
    "\n",
    "// Notification with two buttons\n",
    "INotification.error('Error with button', {\n",
    "  buttons: [\n",
    "    {\n",
    "      label: 'Action1',\n",
    "      callback: () => alert('Action1 was clicked')\n",
    "    },\n",
    "    {\n",
    "      label: 'Action2',\n",
    "      callback: () => alert('Action2 was clicked')\n",
    "    }\n",
    "  ]\n",
    "});\n",
    "\n",
    "// Close a toast specified by its id\n",
    "INotification.dismiss(id);\n",
    "\n",
    "// Close all toasts\n",
    "INotification.dismiss();\n",
    "\n",
    "// Default call using `toast` function\n",
    "// See https://github.com/fkhadra/react-toastify\n",
    "INotification.notify('Default');"
   ]
  },
  {
   "cell_type": "code",
   "execution_count": null,
   "id": "9fc24262-083e-4384-9a17-17281e98e0e5",
   "metadata": {},
   "outputs": [],
   "source": []
  },
  {
   "cell_type": "code",
   "execution_count": null,
   "id": "209f0b8e-a7bb-4053-8185-2e236d2d1e9a",
   "metadata": {},
   "outputs": [],
   "source": []
  },
  {
   "cell_type": "code",
   "execution_count": null,
   "id": "5119cdfe-b02f-4bcd-b87a-0710ff52ef1c",
   "metadata": {},
   "outputs": [],
   "source": []
  },
  {
   "cell_type": "code",
   "execution_count": null,
   "id": "a4cde51d-6995-41b9-ba08-47399bf5d276",
   "metadata": {},
   "outputs": [],
   "source": []
  },
  {
   "cell_type": "code",
   "execution_count": null,
   "id": "d5fdda93-b7ef-4b44-947c-5c88f5541303",
   "metadata": {},
   "outputs": [],
   "source": []
  }
 ],
 "metadata": {
  "kernelspec": {
   "display_name": "Python 3 (ipykernel)",
   "language": "python",
   "name": "python3"
  },
  "language_info": {
   "codemirror_mode": {
    "name": "ipython",
    "version": 3
   },
   "file_extension": ".py",
   "mimetype": "text/x-python",
   "name": "python",
   "nbconvert_exporter": "python",
   "pygments_lexer": "ipython3",
   "version": "3.9.16"
  },
  "widgets": {
   "application/vnd.jupyter.widget-state+json": {
    "state": {
     "040369b2e4804d64bdf5dd06fe25db7a": {
      "model_module": "@jupyter-widgets/base",
      "model_module_version": "2.0.0",
      "model_name": "LayoutModel",
      "state": {}
     },
     "0600f7dd821e40bda8a208ad092f0bc5": {
      "model_module": "@jupyter-widgets/controls",
      "model_module_version": "2.0.0",
      "model_name": "GridBoxModel",
      "state": {
       "_dom_classes": [
        "nbtools-input",
        "nbtools-textinput"
       ],
       "children": [
        "IPY_MODEL_66940aef01f5413a8d9404fc368106ec",
        "IPY_MODEL_1c73ec16ade94bc6afba6c03ffb92cd6",
        "IPY_MODEL_4bb7468dd7e249248e4a7400a7debefb"
       ],
       "layout": "IPY_MODEL_21d1a6c4e09b461988fa79bcf1e2ef99"
      }
     },
     "15607e6157b9463b8f1a500bbb20c233": {
      "model_module": "@jupyter-widgets/controls",
      "model_module_version": "2.0.0",
      "model_name": "TextModel",
      "state": {
       "_dom_classes": [
        "nbtools-menu-attached"
       ],
       "layout": "IPY_MODEL_91811ff87546444f97c8987da5f103c6",
       "style": "IPY_MODEL_dd3d5e9f30584f2a8e11133d59a31894"
      }
     },
     "16cc8516ea8944bd99df61836187b9bd": {
      "model_module": "@jupyter-widgets/base",
      "model_module_version": "2.0.0",
      "model_name": "LayoutModel",
      "state": {
       "grid_area": "label",
       "width": "auto"
      }
     },
     "1a2a371d9d734bbc92882b46fa4ba6ea": {
      "model_module": "@jupyter-widgets/base",
      "model_module_version": "2.0.0",
      "model_name": "LayoutModel",
      "state": {}
     },
     "1c1aec2e5f4842cd8819d0b061d1c830": {
      "model_module": "@jupyter-widgets/controls",
      "model_module_version": "2.0.0",
      "model_name": "VBoxModel",
      "state": {
       "_dom_classes": [
        "widget-interact"
       ],
       "children": [
        "IPY_MODEL_c5be086967e34af094a09710ec22d088",
        "IPY_MODEL_c32e0e731ea54c4286e89e9ed12052b2"
       ],
       "layout": "IPY_MODEL_1a2a371d9d734bbc92882b46fa4ba6ea"
      }
     },
     "1c73ec16ade94bc6afba6c03ffb92cd6": {
      "model_module": "@jupyter-widgets/controls",
      "model_module_version": "2.0.0",
      "model_name": "TextModel",
      "state": {
       "_dom_classes": [
        "nbtools-menu-attached"
       ],
       "layout": "IPY_MODEL_a80e67fac7c94ce587ebd4f6ac2caccb",
       "style": "IPY_MODEL_b0642aa55a1c4cb6af29a2b53433ef32",
       "value": "World"
      }
     },
     "20e8e1ea37aa4aa98f2f9c693cb29c7b": {
      "model_module": "@jupyter-widgets/controls",
      "model_module_version": "2.0.0",
      "model_name": "TextStyleModel",
      "state": {
       "description_width": "",
       "font_size": null,
       "text_color": null
      }
     },
     "21d1a6c4e09b461988fa79bcf1e2ef99": {
      "model_module": "@jupyter-widgets/base",
      "model_module_version": "2.0.0",
      "model_name": "LayoutModel",
      "state": {
       "grid_template_areas": "\n                    \"label input\"\n                    \". description\"\n                ",
       "grid_template_columns": "25% 75%",
       "grid_template_rows": "auto auto",
       "width": "100%"
      }
     },
     "23f5572b45224114b0d9fdf367514698": {
      "model_module": "@jupyter-widgets/base",
      "model_module_version": "2.0.0",
      "model_name": "LayoutModel",
      "state": {
       "grid_area": "label",
       "width": "auto"
      }
     },
     "291333e784b54de98cd85c0da8bd8f08": {
      "model_module": "@jupyter-widgets/controls",
      "model_module_version": "2.0.0",
      "model_name": "LabelStyleModel",
      "state": {
       "description_width": "",
       "font_family": null,
       "font_size": null,
       "font_style": null,
       "font_variant": null,
       "font_weight": null,
       "text_color": null,
       "text_decoration": null
      }
     },
     "4bb7468dd7e249248e4a7400a7debefb": {
      "model_module": "@jupyter-widgets/controls",
      "model_module_version": "2.0.0",
      "model_name": "LabelModel",
      "state": {
       "layout": "IPY_MODEL_b1dcee02c1f34e918c900991efe0ae89",
       "style": "IPY_MODEL_5e2e10948e6345918aef556b76cb880b"
      }
     },
     "4c44edce79ff4c219a857429225aa565": {
      "model_module": "@jupyter-widgets/base",
      "model_module_version": "2.0.0",
      "model_name": "LayoutModel",
      "state": {
       "grid_area": "input",
       "width": "auto"
      }
     },
     "4ffd67af106e48c5a5ffa8302c4e8ce3": {
      "model_module": "@jupyter-widgets/base",
      "model_module_version": "2.0.0",
      "model_name": "LayoutModel",
      "state": {}
     },
     "5e2e10948e6345918aef556b76cb880b": {
      "model_module": "@jupyter-widgets/controls",
      "model_module_version": "2.0.0",
      "model_name": "LabelStyleModel",
      "state": {
       "description_width": "",
       "font_family": null,
       "font_size": null,
       "font_style": null,
       "font_variant": null,
       "font_weight": null,
       "text_color": null,
       "text_decoration": null
      }
     },
     "60bfe411183341b688546a700a7e0677": {
      "model_module": "@jupyter-widgets/controls",
      "model_module_version": "2.0.0",
      "model_name": "LabelModel",
      "state": {
       "description": "output variable",
       "layout": "IPY_MODEL_16cc8516ea8944bd99df61836187b9bd",
       "style": "IPY_MODEL_d6171aadd7734e7a98017b0dee30dca1",
       "value": "output variable"
      }
     },
     "66940aef01f5413a8d9404fc368106ec": {
      "model_module": "@jupyter-widgets/controls",
      "model_module_version": "2.0.0",
      "model_name": "LabelModel",
      "state": {
       "description": "to_whom",
       "layout": "IPY_MODEL_ecd9faf6bcf745d4bd6b3cffde1c14fa",
       "style": "IPY_MODEL_291333e784b54de98cd85c0da8bd8f08",
       "value": "to_whom"
      }
     },
     "67a2a2b1712b4a15867b1c13fb8962aa": {
      "model_module": "@g2nb/nbtools",
      "model_module_version": ">=23.1.0",
      "model_name": "UIBuilderModel",
      "state": {
       "_model_module_version": ">=23.1.0",
       "_parameters": [
        {
         "choices": {},
         "default": "World",
         "description": "",
         "events": null,
         "hide": false,
         "id": null,
         "kinds": null,
         "label": "to_whom",
         "name": "to_whom",
         "optional": true,
         "type": "text",
         "value": "World"
        },
        {
         "choices": {},
         "default": "",
         "description": "",
         "events": null,
         "hide": true,
         "id": null,
         "kinds": null,
         "label": "output variable",
         "name": "output_var",
         "optional": true,
         "type": "text",
         "value": ""
        }
       ],
       "_view_count": 0,
       "_view_module_version": ">=23.1.0",
       "description": "Say hello to the world or whomever.",
       "form": "IPY_MODEL_7f50ab6b696940a4bc8c5e6b76701666",
       "layout": "IPY_MODEL_ee1389d1ba9345dc8ca392d56a8000eb",
       "logo": "",
       "name": "say_hello",
       "origin": "Notebook",
       "output": "IPY_MODEL_9bde4c108f8042dea7488ee2ff3b4771",
       "output_var": ""
      }
     },
     "6dbcd1d0168d4fddb0ed0c6d107326d2": {
      "model_module": "@jupyter-widgets/controls",
      "model_module_version": "2.0.0",
      "model_name": "GridBoxModel",
      "state": {
       "_dom_classes": [
        "nbtools-input",
        "nbtools-textinput"
       ],
       "children": [
        "IPY_MODEL_60bfe411183341b688546a700a7e0677",
        "IPY_MODEL_962cc3faedda4c298a8ee3dd9c2cbe31",
        "IPY_MODEL_80e1dfe7b7f2477da176b1af2d11fc47"
       ],
       "layout": "IPY_MODEL_81801c79e37e43679d72131247b30c17"
      }
     },
     "6e52289153de45c594ab3b4861c08277": {
      "model_module": "@jupyter-widgets/base",
      "model_module_version": "2.0.0",
      "model_name": "LayoutModel",
      "state": {}
     },
     "6ebe03a74965481086abd8edc4ab2c52": {
      "model_module": "@jupyter-widgets/controls",
      "model_module_version": "2.0.0",
      "model_name": "ButtonStyleModel",
      "state": {
       "font_family": null,
       "font_size": null,
       "font_style": null,
       "font_variant": null,
       "font_weight": null,
       "text_color": null,
       "text_decoration": null
      }
     },
     "7efc65f12e024f96a5a286acd0980b25": {
      "model_module": "@jupyter-widgets/output",
      "model_module_version": "1.0.0",
      "model_name": "OutputModel",
      "state": {
       "layout": "IPY_MODEL_d766059a26d649c2b7a0b870537b6d09"
      }
     },
     "7f50ab6b696940a4bc8c5e6b76701666": {
      "model_module": "@jupyter-widgets/controls",
      "model_module_version": "2.0.0",
      "model_name": "VBoxModel",
      "state": {
       "_dom_classes": [
        "widget-interact"
       ],
       "children": [
        "IPY_MODEL_0600f7dd821e40bda8a208ad092f0bc5",
        "IPY_MODEL_fd948c0d6cd14863888e91ebf90665c9",
        "IPY_MODEL_6dbcd1d0168d4fddb0ed0c6d107326d2"
       ],
       "layout": "IPY_MODEL_6e52289153de45c594ab3b4861c08277"
      }
     },
     "80e1dfe7b7f2477da176b1af2d11fc47": {
      "model_module": "@jupyter-widgets/controls",
      "model_module_version": "2.0.0",
      "model_name": "LabelModel",
      "state": {
       "layout": "IPY_MODEL_e1878a7e72d446548ed83aea8945f92d",
       "style": "IPY_MODEL_aa3dafd52ad84336bcd829559ae2ca41"
      }
     },
     "81801c79e37e43679d72131247b30c17": {
      "model_module": "@jupyter-widgets/base",
      "model_module_version": "2.0.0",
      "model_name": "LayoutModel",
      "state": {
       "display": "none",
       "grid_template_areas": "\n                    \"label input\"\n                    \". description\"\n                ",
       "grid_template_columns": "25% 75%",
       "grid_template_rows": "auto auto",
       "width": "100%"
      }
     },
     "91811ff87546444f97c8987da5f103c6": {
      "model_module": "@jupyter-widgets/base",
      "model_module_version": "2.0.0",
      "model_name": "LayoutModel",
      "state": {
       "grid_area": "input",
       "width": "auto"
      }
     },
     "962cc3faedda4c298a8ee3dd9c2cbe31": {
      "model_module": "@jupyter-widgets/controls",
      "model_module_version": "2.0.0",
      "model_name": "TextModel",
      "state": {
       "_dom_classes": [
        "nbtools-menu-attached"
       ],
       "layout": "IPY_MODEL_4c44edce79ff4c219a857429225aa565",
       "style": "IPY_MODEL_20e8e1ea37aa4aa98f2f9c693cb29c7b"
      }
     },
     "9a4faeb9da6349faa87501968d28a80e": {
      "model_module": "@jupyter-widgets/base",
      "model_module_version": "2.0.0",
      "model_name": "LayoutModel",
      "state": {}
     },
     "9bde4c108f8042dea7488ee2ff3b4771": {
      "model_module": "@jupyter-widgets/output",
      "model_module_version": "1.0.0",
      "model_name": "OutputModel",
      "state": {
       "layout": "IPY_MODEL_040369b2e4804d64bdf5dd06fe25db7a"
      }
     },
     "a409d4f8532c42f393e11eb292a21eea": {
      "model_module": "@jupyter-widgets/controls",
      "model_module_version": "2.0.0",
      "model_name": "GridBoxModel",
      "state": {
       "_dom_classes": [
        "nbtools-input",
        "nbtools-textinput"
       ],
       "children": [
        "IPY_MODEL_b2c5ab799c9b431598b11e3a8700f9e4",
        "IPY_MODEL_15607e6157b9463b8f1a500bbb20c233",
        "IPY_MODEL_f35679b4be9d4b33b19c8e3d40726782"
       ],
       "layout": "IPY_MODEL_e7bfece5681443048524e61f39ce3fec"
      }
     },
     "a80e67fac7c94ce587ebd4f6ac2caccb": {
      "model_module": "@jupyter-widgets/base",
      "model_module_version": "2.0.0",
      "model_name": "LayoutModel",
      "state": {
       "grid_area": "input",
       "width": "auto"
      }
     },
     "aa3dafd52ad84336bcd829559ae2ca41": {
      "model_module": "@jupyter-widgets/controls",
      "model_module_version": "2.0.0",
      "model_name": "LabelStyleModel",
      "state": {
       "description_width": "",
       "font_family": null,
       "font_size": null,
       "font_style": null,
       "font_variant": null,
       "font_weight": null,
       "text_color": null,
       "text_decoration": null
      }
     },
     "b0642aa55a1c4cb6af29a2b53433ef32": {
      "model_module": "@jupyter-widgets/controls",
      "model_module_version": "2.0.0",
      "model_name": "TextStyleModel",
      "state": {
       "description_width": "",
       "font_size": null,
       "text_color": null
      }
     },
     "b1dcee02c1f34e918c900991efe0ae89": {
      "model_module": "@jupyter-widgets/base",
      "model_module_version": "2.0.0",
      "model_name": "LayoutModel",
      "state": {
       "grid_area": "description",
       "width": "auto"
      }
     },
     "b2c5ab799c9b431598b11e3a8700f9e4": {
      "model_module": "@jupyter-widgets/controls",
      "model_module_version": "2.0.0",
      "model_name": "LabelModel",
      "state": {
       "description": "output variable",
       "layout": "IPY_MODEL_23f5572b45224114b0d9fdf367514698",
       "style": "IPY_MODEL_f475552294e44bf2a3986c1afe62b988",
       "value": "output variable"
      }
     },
     "c00f54efb4f24ec29bb3584d44db4640": {
      "model_module": "@jupyter-widgets/base",
      "model_module_version": "2.0.0",
      "model_name": "LayoutModel",
      "state": {}
     },
     "c32e0e731ea54c4286e89e9ed12052b2": {
      "model_module": "@jupyter-widgets/output",
      "model_module_version": "1.0.0",
      "model_name": "OutputModel",
      "state": {
       "layout": "IPY_MODEL_9a4faeb9da6349faa87501968d28a80e"
      }
     },
     "c5be086967e34af094a09710ec22d088": {
      "model_module": "@jupyter-widgets/controls",
      "model_module_version": "2.0.0",
      "model_name": "ButtonModel",
      "state": {
       "_dom_classes": [
        "hidden"
       ],
       "description": "Run",
       "layout": "IPY_MODEL_c00f54efb4f24ec29bb3584d44db4640",
       "style": "IPY_MODEL_6ebe03a74965481086abd8edc4ab2c52",
       "tooltip": null
      }
     },
     "cf04164fd43d48648dff67c712d62ed2": {
      "model_module": "@jupyter-widgets/controls",
      "model_module_version": "2.0.0",
      "model_name": "ButtonStyleModel",
      "state": {
       "font_family": null,
       "font_size": null,
       "font_style": null,
       "font_variant": null,
       "font_weight": null,
       "text_color": null,
       "text_decoration": null
      }
     },
     "d6171aadd7734e7a98017b0dee30dca1": {
      "model_module": "@jupyter-widgets/controls",
      "model_module_version": "2.0.0",
      "model_name": "LabelStyleModel",
      "state": {
       "description_width": "",
       "font_family": null,
       "font_size": null,
       "font_style": null,
       "font_variant": null,
       "font_weight": null,
       "text_color": null,
       "text_decoration": null
      }
     },
     "d766059a26d649c2b7a0b870537b6d09": {
      "model_module": "@jupyter-widgets/base",
      "model_module_version": "2.0.0",
      "model_name": "LayoutModel",
      "state": {}
     },
     "dd3d5e9f30584f2a8e11133d59a31894": {
      "model_module": "@jupyter-widgets/controls",
      "model_module_version": "2.0.0",
      "model_name": "TextStyleModel",
      "state": {
       "description_width": "",
       "font_size": null,
       "text_color": null
      }
     },
     "e1878a7e72d446548ed83aea8945f92d": {
      "model_module": "@jupyter-widgets/base",
      "model_module_version": "2.0.0",
      "model_name": "LayoutModel",
      "state": {
       "grid_area": "description",
       "width": "auto"
      }
     },
     "e4af532569664184bd33cbe48e0f2d5b": {
      "model_module": "@jupyter-widgets/controls",
      "model_module_version": "2.0.0",
      "model_name": "LabelStyleModel",
      "state": {
       "description_width": "",
       "font_family": null,
       "font_size": null,
       "font_style": null,
       "font_variant": null,
       "font_weight": null,
       "text_color": null,
       "text_decoration": null
      }
     },
     "e7bfece5681443048524e61f39ce3fec": {
      "model_module": "@jupyter-widgets/base",
      "model_module_version": "2.0.0",
      "model_name": "LayoutModel",
      "state": {
       "display": "none",
       "grid_template_areas": "\n                    \"label input\"\n                    \". description\"\n                ",
       "grid_template_columns": "25% 75%",
       "grid_template_rows": "auto auto",
       "width": "100%"
      }
     },
     "ecd9faf6bcf745d4bd6b3cffde1c14fa": {
      "model_module": "@jupyter-widgets/base",
      "model_module_version": "2.0.0",
      "model_name": "LayoutModel",
      "state": {
       "grid_area": "label",
       "width": "auto"
      }
     },
     "edbcb836658b44068aa96f733634d1f4": {
      "model_module": "@jupyter-widgets/base",
      "model_module_version": "2.0.0",
      "model_name": "LayoutModel",
      "state": {
       "grid_area": "description",
       "width": "auto"
      }
     },
     "ee1389d1ba9345dc8ca392d56a8000eb": {
      "model_module": "@jupyter-widgets/base",
      "model_module_version": "2.0.0",
      "model_name": "LayoutModel",
      "state": {}
     },
     "f35679b4be9d4b33b19c8e3d40726782": {
      "model_module": "@jupyter-widgets/controls",
      "model_module_version": "2.0.0",
      "model_name": "LabelModel",
      "state": {
       "layout": "IPY_MODEL_edbcb836658b44068aa96f733634d1f4",
       "style": "IPY_MODEL_e4af532569664184bd33cbe48e0f2d5b"
      }
     },
     "f475552294e44bf2a3986c1afe62b988": {
      "model_module": "@jupyter-widgets/controls",
      "model_module_version": "2.0.0",
      "model_name": "LabelStyleModel",
      "state": {
       "description_width": "",
       "font_family": null,
       "font_size": null,
       "font_style": null,
       "font_variant": null,
       "font_weight": null,
       "text_color": null,
       "text_decoration": null
      }
     },
     "fd948c0d6cd14863888e91ebf90665c9": {
      "model_module": "@jupyter-widgets/controls",
      "model_module_version": "2.0.0",
      "model_name": "ButtonModel",
      "state": {
       "_dom_classes": [
        "hidden"
       ],
       "description": "Run",
       "layout": "IPY_MODEL_4ffd67af106e48c5a5ffa8302c4e8ce3",
       "style": "IPY_MODEL_cf04164fd43d48648dff67c712d62ed2",
       "tooltip": null
      }
     }
    },
    "version_major": 2,
    "version_minor": 0
   }
  }
 },
 "nbformat": 4,
 "nbformat_minor": 5
}
