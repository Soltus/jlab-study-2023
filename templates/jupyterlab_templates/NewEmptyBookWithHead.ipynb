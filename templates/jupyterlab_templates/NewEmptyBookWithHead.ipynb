{
 "cells": [
  {
   "cell_type": "code",
   "execution_count": null,
   "id": "3d1cf0d1-8e6a-4c92-88dc-92f02a40f8cc",
   "metadata": {},
   "outputs": [],
   "source": [
    "<!--\n",
    "模板使用方法：将此代码块转为Markdown块然后点击左侧三角渲染（依赖 jupyter-wysiwyg ）\n",
    "模板参数说明：将超链一和超链接二的路径替换即可\n",
    "注意事项：在 <p>...</p> 中添加注释或者空行等行为会破坏渲染效果\n",
    "-->\n",
    "\n",
    "<!-- start of template header -->\n",
    "<p>\n",
    "<div style=\"display:flex\">\n",
    "<a alt=\"超链接一\" href=\"https://github.com/Soltus/jlab-study-2023/blob/main/templates/jupyterlab_templates/NewEmptyBookWithHead.ipynb\" target=\"_blank\"><img src=\"https://img.shields.io/badge/File-blue?logo=github\" title=\"在Github查看当前文件\" style=\"height: 38px\"/></a>\n",
    "<span style=\"width:5.8px\"></span>\n",
    "<a alt=\"超链接二\" href=\"https://mybinder.org/v2/gh/Soltus/jlab-study-2023/main?filepath=/templates/jupyterlab_templates/NewEmptyBookWithHead.ipynb\" target=\"_blank\"><img src=\"https://mybinder.org/badge_logo.svg\" title=\"在Binder体验当前文件\" style=\"height: 38px\"/></a>\n",
    "<span style=\"width:5.8px\"></span>\n",
    "<a alt=\"超链接三\" href=\"tencent://AddContact/?fromId=45&fromSubId=1&subcmd=all&uin=694357845&website=www.oicqzone.com\" target=\"_blank\"><img title=\"添加QQ好友\" src=\"https://img.shields.io/badge/QQ-694357845-blue?logo=Tencent QQ\" style=\"height: 38px\"/></a>\n",
    "</div>\n",
    "</p>\n",
    "\n",
    "<!-- 可更改或删除标题，具体内容需另起Markdown块，避免二次渲染当前块 -->\n",
    "# Notebook 内容概要\n",
    "<!-- 请勿在此处添加内容 -->\n",
    "<!-- end of template header -->"
   ]
  },
  {
   "cell_type": "markdown",
   "id": "11530499-115c-44c8-8328-bd80dab0e661",
   "metadata": {},
   "source": []
  },
  {
   "cell_type": "code",
   "execution_count": null,
   "id": "acf12795-9dab-4a42-b12c-9f230da1d8a0",
   "metadata": {},
   "outputs": [],
   "source": []
  },
  {
   "cell_type": "code",
   "execution_count": null,
   "id": "9fe191e3-ec01-47ff-9d3f-dfab35ddc884",
   "metadata": {},
   "outputs": [],
   "source": []
  },
  {
   "cell_type": "code",
   "execution_count": null,
   "id": "9735c14f-6193-4aac-b77f-d3c2d86f505a",
   "metadata": {},
   "outputs": [],
   "source": []
  },
  {
   "cell_type": "markdown",
   "id": "b74e6c07-b65f-481f-bf88-0e28b5b5ec21",
   "metadata": {},
   "source": []
  },
  {
   "cell_type": "markdown",
   "id": "01d0610b-d4d7-463a-974d-e743d1f1ea6a",
   "metadata": {},
   "source": [
    "<!-- start of template footer -->\n",
    "<p>\n",
    "<div style=\"display:flex\">\n",
    "<a alt=\"超链接三\" href=\"tencent://AddContact/?fromId=45&fromSubId=1&subcmd=all&uin=694357845&website=www.oicqzone.com\" target=\"_blank\"><img title=\"添加QQ好友\" src=\"https://img.shields.io/badge/QQ-694357845-blue?logo=Tencent QQ\" style=\"height: 38px\"/></a>\n",
    "</div>\n",
    "</p>\n",
    "<!-- end of template footer -->"
   ]
  }
 ],
 "metadata": {
  "kernelspec": {
   "display_name": "Python 3 (ipykernel)",
   "language": "python",
   "name": "python3"
  },
  "language_info": {
   "codemirror_mode": {
    "name": "ipython",
    "version": 3
   },
   "file_extension": ".py",
   "mimetype": "text/x-python",
   "name": "python",
   "nbconvert_exporter": "python",
   "pygments_lexer": "ipython3",
   "version": "3.10.9"
  },
  "widgets": {
   "application/vnd.jupyter.widget-state+json": {
    "state": {},
    "version_major": 2,
    "version_minor": 0
   }
  }
 },
 "nbformat": 4,
 "nbformat_minor": 5
}
