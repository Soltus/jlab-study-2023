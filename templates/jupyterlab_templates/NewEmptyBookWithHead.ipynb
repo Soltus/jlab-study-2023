{
 "cells": [
  {
   "cell_type": "code",
   "execution_count": null,
   "id": "52b13352-e95e-491a-ae08-dfec92ba3d14",
   "metadata": {},
   "outputs": [],
   "source": [
    "<!--\n",
    "模板使用方法：将此代码块转为Markdown块然后点击左侧三角渲染（依赖 jupyter-wysiwyg ）\n",
    "模板参数说明：将超链一和超链接二的路径替换即可\n",
    "注意事项：在 <p>...</p> 中添加注释或者空行等行为会破坏渲染效果\n",
    "-->\n",
    "\n",
    "<p>\n",
    "<div style=\"display:flex\">\n",
    "<a href=\"https://github.com/Soltus/jlab-study-2023/blob/main/templates/jupyterlab_templates/NewEmptyBookWithHead.ipynb\"><img src=\"https://img.shields.io/badge/File-blue?logo=github\" title=\"在Github查看当前文件\"/></a>\n",
    "<span style=\"width:5.8px\"></span>\n",
    "<a href=\"https://mybinder.org/v2/gh/Soltus/jlab-study-2023/main?filepath=/templates/jupyterlab_templates/NewEmptyBookWithHead.ipynb\"><img src=\"https://mybinder.org/badge_logo.svg\" title=\"在Binder体验当前文件\"/></a>\n",
    "</div>\n",
    "</p>"
   ]
  }
 ],
 "metadata": {
  "kernelspec": {
   "display_name": "Python 3 (ipykernel)",
   "language": "python",
   "name": "python3"
  },
  "language_info": {
   "codemirror_mode": {
    "name": "ipython",
    "version": 3
   },
   "file_extension": ".py",
   "mimetype": "text/x-python",
   "name": "python",
   "nbconvert_exporter": "python",
   "pygments_lexer": "ipython3",
   "version": "3.10.9"
  },
  "widgets": {
   "application/vnd.jupyter.widget-state+json": {
    "state": {},
    "version_major": 2,
    "version_minor": 0
   }
  }
 },
 "nbformat": 4,
 "nbformat_minor": 5
}
