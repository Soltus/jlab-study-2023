{
 "cells": [
  {
   "cell_type": "markdown",
   "id": "a3c8b2e7-33ce-45df-bb5d-d32ca6682b43",
   "metadata": {},
   "source": [
    "<p><a href=\"https://github.com/Soltus/jlab-study-2023\">Soltus/jlab-study-2023 (github.com)</a></p>"
   ]
  },
  {
   "cell_type": "code",
   "execution_count": null,
   "id": "10f098a0-d1f0-4a39-91cc-c2e69392c12d",
   "metadata": {},
   "outputs": [],
   "source": []
  }
 ],
 "metadata": {
  "kernelspec": {
   "display_name": "Python 3 (ipykernel)",
   "language": "python",
   "name": "python3"
  },
  "language_info": {
   "codemirror_mode": {
    "name": "ipython",
    "version": 3
   },
   "file_extension": ".py",
   "mimetype": "text/x-python",
   "name": "python",
   "nbconvert_exporter": "python",
   "pygments_lexer": "ipython3",
   "version": "3.10.9"
  },
  "widgets": {
   "application/vnd.jupyter.widget-state+json": {
    "state": {},
    "version_major": 2,
    "version_minor": 0
   }
  }
 },
 "nbformat": 4,
 "nbformat_minor": 5
}
