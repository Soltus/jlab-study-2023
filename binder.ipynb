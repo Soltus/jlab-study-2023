{
 "cells": [
  {
   "attachments": {},
   "cell_type": "markdown",
   "metadata": {},
   "source": [
    "# Binder 必读说明\n",
    "1. Binder 的 Python 版本为 `3.9.13` 而不是 `3.10.X` ，这是有意为之，请不要变更\n",
    "2. Binder 上的所有编辑均不会保存\n",
    "3. Binder 上的内容可能不是最新的\n",
    "4. Binder 启动耗时长是正常的情况\n",
    "5. Binder 无法使用 win32 的 Python 包"
   ]
  },
  {
   "attachments": {},
   "cell_type": "markdown",
   "metadata": {},
   "source": [
    "# Lab on Binder 操作指南\n",
    "\n",
    "## 界面汉化\n",
    "中文包已经集成，可以在顶栏菜单 `Settings` -> `Language` 中直接切换"
   ]
  }
 ],
 "metadata": {
  "kernelspec": {
   "display_name": "Python 3",
   "language": "python",
   "name": "python3"
  },
  "language_info": {
   "name": "python",
   "version": "3.9.13"
  },
  "orig_nbformat": 4,
  "vscode": {
   "interpreter": {
    "hash": "11938c6bc6919ae2720b4d5011047913343b08a43b18698fd82dedb0d4417594"
   }
  }
 },
 "nbformat": 4,
 "nbformat_minor": 2
}
