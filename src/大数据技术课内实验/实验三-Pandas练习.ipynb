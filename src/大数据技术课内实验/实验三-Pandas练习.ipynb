{
 "cells": [
  {
   "cell_type": "markdown",
   "id": "b6e6fa4e-c463-4585-8862-7f7a7c50ee8c",
   "metadata": {
    "tags": []
   },
   "source": [
    "<h2 class=\"MsoNormal\" style=\"text-indent: 24.0000pt; mso-char-indent-count: 2.0000; line-height: 150%;\"><span style=\"mso-spacerun: 'yes'; font-family: 宋体; mso-ascii-font-family: 'Times New Roman'; mso-hansi-font-family: 'Times New Roman'; mso-bidi-font-family: 'Times New Roman'; line-height: 150%; mso-bidi-font-weight: bold; font-size: 12.0000pt; mso-font-kerning: 1.0000pt;\"><span style=\"font-family: 宋体;\">读取</span> <span style=\"font-family: Times New Roman;\">mtcars </span><span style=\"font-family: 宋体;\">数据集并实现以下操作：</span></span></h2>\n",
    "<ol>\n",
    "<li class=\"MsoNormal\" style=\"text-indent: 24pt; line-height: 150%;\"><span style=\"mso-spacerun: 'yes'; font-family: 宋体; mso-ascii-font-family: 'Times New Roman'; mso-hansi-font-family: 'Times New Roman'; mso-bidi-font-family: 'Times New Roman'; line-height: 150%; mso-bidi-font-weight: bold; font-size: 12.0000pt; mso-font-kerning: 1.0000pt;\">查</span><span style=\"mso-spacerun: 'yes'; font-family: 'Times New Roman'; mso-fareast-font-family: 宋体; line-height: 150%; mso-bidi-font-weight: bold; font-size: 12.0000pt; mso-font-kerning: 1.0000pt;\">&nbsp;mtcars</span><span style=\"mso-spacerun: 'yes'; font-family: 宋体; mso-ascii-font-family: 'Times New Roman'; mso-hansi-font-family: 'Times New Roman'; mso-bidi-font-family: 'Times New Roman'; line-height: 150%; mso-bidi-font-weight: bold; font-size: 12.0000pt; mso-font-kerning: 1.0000pt;\">数据集的维度、大小等信息；</span></li>\n",
    "<li class=\"MsoNormal\" style=\"text-indent: 24pt; line-height: 150%;\"><span style=\"text-indent: 24pt; font-family: 宋体; line-height: 150%; font-size: 12pt;\">使用</span><span style=\"text-indent: 24pt; font-family: 'Times New Roman'; line-height: 150%; font-size: 12pt;\">describe</span><span style=\"text-indent: 24pt; font-family: 宋体; line-height: 150%; font-size: 12pt;\">方法对整个</span><span style=\"text-indent: 24pt; font-family: 'Times New Roman'; line-height: 150%; font-size: 12pt;\">mtcars</span><span style=\"text-indent: 24pt; font-family: 宋体; line-height: 150%; font-size: 12pt;\">数据集进行描述性统计；</span></li>\n",
    "<li class=\"MsoNormal\" style=\"text-indent: 24pt; line-height: 150%;\">计算不同<span style=\"text-indent: 24pt; font-family: 'Times New Roman'; line-height: 150%; font-size: 12pt;\">cyl</span><span style=\"text-indent: 24pt; font-family: 宋体; line-height: 150%; font-size: 12pt;\">（汽缸数）、</span><span style=\"text-indent: 24pt; font-family: 'Times New Roman'; line-height: 150%; font-size: 12pt;\">carb</span><span style=\"text-indent: 24pt; font-family: 宋体; line-height: 150%; font-size: 12pt;\">（化油器）对应的</span><span style=\"text-indent: 24pt; font-family: 'Times New Roman'; line-height: 150%; font-size: 12pt;\">mpg</span><span style=\"text-indent: 24pt; font-family: 宋体; line-height: 150%; font-size: 12pt;\">（油耗）和</span><span style=\"text-indent: 24pt; font-family: 'Times New Roman'; line-height: 150%; font-size: 12pt;\">hp</span><span style=\"text-indent: 24pt; font-family: 宋体; line-height: 150%; font-size: 12pt;\">（马力）的均值。</span></li>\n",
    "</ol>"
   ]
  },
  {
   "cell_type": "code",
   "execution_count": null,
   "id": "34767361-320d-49a6-8919-39c228152400",
   "metadata": {},
   "outputs": [],
   "source": []
  },
  {
   "cell_type": "markdown",
   "id": "0c2ee8c9-9e59-4c4f-97e4-58b394592ae1",
   "metadata": {},
   "source": [
    "<h3><span style=\"box-sizing: border-box; --tw-border-spacing-x: 0; --tw-border-spacing-y: 0; --tw-translate-x: 0; --tw-translate-y: 0; --tw-rotate: 0; --tw-skew-x: 0; --tw-skew-y: 0; --tw-scale-x: 1; --tw-scale-y: 1; --tw-scroll-snap-strictness: proximity; --tw-ring-offset-width: 0px; --tw-ring-offset-color: #fff; --tw-ring-color: rgb(59 130 246 / 0.5); --tw-ring-offset-shadow: 0 0 #0000; --tw-ring-shadow: 0 0 #0000; --tw-shadow: 0 0 #0000; --tw-shadow-colored: 0 0 #0000; color: #ffffff; font-family: -apple-system, BlinkMacSystemFont, 'Segoe UI', Helvetica, Arial, sans-serif, 'Apple Color Emoji', 'Segoe UI Emoji', 'Segoe UI Symbol'; text-indent: 32px; line-height: 24px; font-size: 12pt; border: 0px solid #e5e7eb;\">查</span><span style=\"box-sizing: border-box; --tw-border-spacing-x: 0; --tw-border-spacing-y: 0; --tw-translate-x: 0; --tw-translate-y: 0; --tw-rotate: 0; --tw-skew-x: 0; --tw-skew-y: 0; --tw-scale-x: 1; --tw-scale-y: 1; --tw-scroll-snap-strictness: proximity; --tw-ring-offset-width: 0px; --tw-ring-offset-color: #fff; --tw-ring-color: rgb(59 130 246 / 0.5); --tw-ring-offset-shadow: 0 0 #0000; --tw-ring-shadow: 0 0 #0000; --tw-shadow: 0 0 #0000; --tw-shadow-colored: 0 0 #0000; color: #ffffff; text-indent: 32px; font-family: 'Times New Roman'; line-height: 24px; font-size: 12pt; border: 0px solid #e5e7eb;\">&nbsp;mtcars</span><span style=\"box-sizing: border-box; --tw-border-spacing-x: 0; --tw-border-spacing-y: 0; --tw-translate-x: 0; --tw-translate-y: 0; --tw-rotate: 0; --tw-skew-x: 0; --tw-skew-y: 0; --tw-scale-x: 1; --tw-scale-y: 1; --tw-scroll-snap-strictness: proximity; --tw-ring-offset-width: 0px; --tw-ring-offset-color: #fff; --tw-ring-color: rgb(59 130 246 / 0.5); --tw-ring-offset-shadow: 0 0 #0000; --tw-ring-shadow: 0 0 #0000; --tw-shadow: 0 0 #0000; --tw-shadow-colored: 0 0 #0000; color: #ffffff; font-family: -apple-system, BlinkMacSystemFont, 'Segoe UI', Helvetica, Arial, sans-serif, 'Apple Color Emoji', 'Segoe UI Emoji', 'Segoe UI Symbol'; text-indent: 32px; line-height: 24px; font-size: 12pt; border: 0px solid #e5e7eb;\">数据集的维度、大小等信息</span></h3>"
   ]
  },
  {
   "cell_type": "code",
   "execution_count": null,
   "id": "0caa5e9b-ca16-4c7b-9692-280779c43f24",
   "metadata": {},
   "outputs": [],
   "source": []
  },
  {
   "cell_type": "markdown",
   "id": "8a637f17-8930-4582-b0d3-f96aa56413c2",
   "metadata": {},
   "source": [
    "<h3><span style=\"box-sizing: border-box; --tw-border-spacing-x: 0; --tw-border-spacing-y: 0; --tw-translate-x: 0; --tw-translate-y: 0; --tw-rotate: 0; --tw-skew-x: 0; --tw-skew-y: 0; --tw-scale-x: 1; --tw-scale-y: 1; --tw-scroll-snap-strictness: proximity; --tw-ring-offset-width: 0px; --tw-ring-offset-color: #fff; --tw-ring-color: rgb(59 130 246 / 0.5); --tw-ring-offset-shadow: 0 0 #0000; --tw-ring-shadow: 0 0 #0000; --tw-shadow: 0 0 #0000; --tw-shadow-colored: 0 0 #0000; color: #ffffff; font-family: -apple-system, BlinkMacSystemFont, 'Segoe UI', Helvetica, Arial, sans-serif, 'Apple Color Emoji', 'Segoe UI Emoji', 'Segoe UI Symbol'; text-indent: 24pt; line-height: 24px; font-size: 12pt; border: 0px solid #e5e7eb;\">使用</span><span style=\"box-sizing: border-box; --tw-border-spacing-x: 0; --tw-border-spacing-y: 0; --tw-translate-x: 0; --tw-translate-y: 0; --tw-rotate: 0; --tw-skew-x: 0; --tw-skew-y: 0; --tw-scale-x: 1; --tw-scale-y: 1; --tw-scroll-snap-strictness: proximity; --tw-ring-offset-width: 0px; --tw-ring-offset-color: #fff; --tw-ring-color: rgb(59 130 246 / 0.5); --tw-ring-offset-shadow: 0 0 #0000; --tw-ring-shadow: 0 0 #0000; --tw-shadow: 0 0 #0000; --tw-shadow-colored: 0 0 #0000; color: #ffffff; text-indent: 24pt; font-family: 'Times New Roman'; line-height: 24px; font-size: 12pt; border: 0px solid #e5e7eb;\">describe</span><span style=\"box-sizing: border-box; --tw-border-spacing-x: 0; --tw-border-spacing-y: 0; --tw-translate-x: 0; --tw-translate-y: 0; --tw-rotate: 0; --tw-skew-x: 0; --tw-skew-y: 0; --tw-scale-x: 1; --tw-scale-y: 1; --tw-scroll-snap-strictness: proximity; --tw-ring-offset-width: 0px; --tw-ring-offset-color: #fff; --tw-ring-color: rgb(59 130 246 / 0.5); --tw-ring-offset-shadow: 0 0 #0000; --tw-ring-shadow: 0 0 #0000; --tw-shadow: 0 0 #0000; --tw-shadow-colored: 0 0 #0000; color: #ffffff; font-family: -apple-system, BlinkMacSystemFont, 'Segoe UI', Helvetica, Arial, sans-serif, 'Apple Color Emoji', 'Segoe UI Emoji', 'Segoe UI Symbol'; text-indent: 24pt; line-height: 24px; font-size: 12pt; border: 0px solid #e5e7eb;\">方法对整个</span><span style=\"box-sizing: border-box; --tw-border-spacing-x: 0; --tw-border-spacing-y: 0; --tw-translate-x: 0; --tw-translate-y: 0; --tw-rotate: 0; --tw-skew-x: 0; --tw-skew-y: 0; --tw-scale-x: 1; --tw-scale-y: 1; --tw-scroll-snap-strictness: proximity; --tw-ring-offset-width: 0px; --tw-ring-offset-color: #fff; --tw-ring-color: rgb(59 130 246 / 0.5); --tw-ring-offset-shadow: 0 0 #0000; --tw-ring-shadow: 0 0 #0000; --tw-shadow: 0 0 #0000; --tw-shadow-colored: 0 0 #0000; color: #ffffff; text-indent: 24pt; font-family: 'Times New Roman'; line-height: 24px; font-size: 12pt; border: 0px solid #e5e7eb;\">mtcars</span><span style=\"box-sizing: border-box; --tw-border-spacing-x: 0; --tw-border-spacing-y: 0; --tw-translate-x: 0; --tw-translate-y: 0; --tw-rotate: 0; --tw-skew-x: 0; --tw-skew-y: 0; --tw-scale-x: 1; --tw-scale-y: 1; --tw-scroll-snap-strictness: proximity; --tw-ring-offset-width: 0px; --tw-ring-offset-color: #fff; --tw-ring-color: rgb(59 130 246 / 0.5); --tw-ring-offset-shadow: 0 0 #0000; --tw-ring-shadow: 0 0 #0000; --tw-shadow: 0 0 #0000; --tw-shadow-colored: 0 0 #0000; color: #ffffff; font-family: -apple-system, BlinkMacSystemFont, 'Segoe UI', Helvetica, Arial, sans-serif, 'Apple Color Emoji', 'Segoe UI Emoji', 'Segoe UI Symbol'; text-indent: 24pt; line-height: 24px; font-size: 12pt; border: 0px solid #e5e7eb;\">数据集进行描述性统计</span></h3>"
   ]
  },
  {
   "cell_type": "code",
   "execution_count": null,
   "id": "588bed83-a29f-407c-932b-e6fb596cec8c",
   "metadata": {},
   "outputs": [],
   "source": []
  },
  {
   "cell_type": "markdown",
   "id": "36d9e58d-79c7-4c83-a588-833db40e8979",
   "metadata": {},
   "source": [
    "<h3><span style=\"color: #ffffff; font-family: -apple-system, BlinkMacSystemFont, 'Segoe UI', Helvetica, Arial, sans-serif, 'Apple Color Emoji', 'Segoe UI Emoji', 'Segoe UI Symbol'; font-size: 14px; font-weight: 400; text-indent: 32px;\">计算不同</span><span style=\"box-sizing: border-box; --tw-border-spacing-x: 0; --tw-border-spacing-y: 0; --tw-translate-x: 0; --tw-translate-y: 0; --tw-rotate: 0; --tw-skew-x: 0; --tw-skew-y: 0; --tw-scale-x: 1; --tw-scale-y: 1; --tw-scroll-snap-strictness: proximity; --tw-ring-offset-width: 0px; --tw-ring-offset-color: #fff; --tw-ring-color: rgb(59 130 246 / 0.5); --tw-ring-offset-shadow: 0 0 #0000; --tw-ring-shadow: 0 0 #0000; --tw-shadow: 0 0 #0000; --tw-shadow-colored: 0 0 #0000; color: #ffffff; font-weight: 400; text-indent: 24pt; font-family: 'Times New Roman'; line-height: 24px; font-size: 12pt; border: 0px solid #e5e7eb;\">cyl</span><span style=\"box-sizing: border-box; --tw-border-spacing-x: 0; --tw-border-spacing-y: 0; --tw-translate-x: 0; --tw-translate-y: 0; --tw-rotate: 0; --tw-skew-x: 0; --tw-skew-y: 0; --tw-scale-x: 1; --tw-scale-y: 1; --tw-scroll-snap-strictness: proximity; --tw-ring-offset-width: 0px; --tw-ring-offset-color: #fff; --tw-ring-color: rgb(59 130 246 / 0.5); --tw-ring-offset-shadow: 0 0 #0000; --tw-ring-shadow: 0 0 #0000; --tw-shadow: 0 0 #0000; --tw-shadow-colored: 0 0 #0000; color: #ffffff; font-family: -apple-system, BlinkMacSystemFont, 'Segoe UI', Helvetica, Arial, sans-serif, 'Apple Color Emoji', 'Segoe UI Emoji', 'Segoe UI Symbol'; font-weight: 400; text-indent: 24pt; line-height: 24px; font-size: 12pt; border: 0px solid #e5e7eb;\">（汽缸数）、</span><span style=\"box-sizing: border-box; --tw-border-spacing-x: 0; --tw-border-spacing-y: 0; --tw-translate-x: 0; --tw-translate-y: 0; --tw-rotate: 0; --tw-skew-x: 0; --tw-skew-y: 0; --tw-scale-x: 1; --tw-scale-y: 1; --tw-scroll-snap-strictness: proximity; --tw-ring-offset-width: 0px; --tw-ring-offset-color: #fff; --tw-ring-color: rgb(59 130 246 / 0.5); --tw-ring-offset-shadow: 0 0 #0000; --tw-ring-shadow: 0 0 #0000; --tw-shadow: 0 0 #0000; --tw-shadow-colored: 0 0 #0000; color: #ffffff; font-weight: 400; text-indent: 24pt; font-family: 'Times New Roman'; line-height: 24px; font-size: 12pt; border: 0px solid #e5e7eb;\">carb</span><span style=\"box-sizing: border-box; --tw-border-spacing-x: 0; --tw-border-spacing-y: 0; --tw-translate-x: 0; --tw-translate-y: 0; --tw-rotate: 0; --tw-skew-x: 0; --tw-skew-y: 0; --tw-scale-x: 1; --tw-scale-y: 1; --tw-scroll-snap-strictness: proximity; --tw-ring-offset-width: 0px; --tw-ring-offset-color: #fff; --tw-ring-color: rgb(59 130 246 / 0.5); --tw-ring-offset-shadow: 0 0 #0000; --tw-ring-shadow: 0 0 #0000; --tw-shadow: 0 0 #0000; --tw-shadow-colored: 0 0 #0000; color: #ffffff; font-family: -apple-system, BlinkMacSystemFont, 'Segoe UI', Helvetica, Arial, sans-serif, 'Apple Color Emoji', 'Segoe UI Emoji', 'Segoe UI Symbol'; font-weight: 400; text-indent: 24pt; line-height: 24px; font-size: 12pt; border: 0px solid #e5e7eb;\">（化油器）对应的</span><span style=\"box-sizing: border-box; --tw-border-spacing-x: 0; --tw-border-spacing-y: 0; --tw-translate-x: 0; --tw-translate-y: 0; --tw-rotate: 0; --tw-skew-x: 0; --tw-skew-y: 0; --tw-scale-x: 1; --tw-scale-y: 1; --tw-scroll-snap-strictness: proximity; --tw-ring-offset-width: 0px; --tw-ring-offset-color: #fff; --tw-ring-color: rgb(59 130 246 / 0.5); --tw-ring-offset-shadow: 0 0 #0000; --tw-ring-shadow: 0 0 #0000; --tw-shadow: 0 0 #0000; --tw-shadow-colored: 0 0 #0000; color: #ffffff; font-weight: 400; text-indent: 24pt; font-family: 'Times New Roman'; line-height: 24px; font-size: 12pt; border: 0px solid #e5e7eb;\">mpg</span><span style=\"box-sizing: border-box; --tw-border-spacing-x: 0; --tw-border-spacing-y: 0; --tw-translate-x: 0; --tw-translate-y: 0; --tw-rotate: 0; --tw-skew-x: 0; --tw-skew-y: 0; --tw-scale-x: 1; --tw-scale-y: 1; --tw-scroll-snap-strictness: proximity; --tw-ring-offset-width: 0px; --tw-ring-offset-color: #fff; --tw-ring-color: rgb(59 130 246 / 0.5); --tw-ring-offset-shadow: 0 0 #0000; --tw-ring-shadow: 0 0 #0000; --tw-shadow: 0 0 #0000; --tw-shadow-colored: 0 0 #0000; color: #ffffff; font-family: -apple-system, BlinkMacSystemFont, 'Segoe UI', Helvetica, Arial, sans-serif, 'Apple Color Emoji', 'Segoe UI Emoji', 'Segoe UI Symbol'; font-weight: 400; text-indent: 24pt; line-height: 24px; font-size: 12pt; border: 0px solid #e5e7eb;\">（油耗）和</span><span style=\"box-sizing: border-box; --tw-border-spacing-x: 0; --tw-border-spacing-y: 0; --tw-translate-x: 0; --tw-translate-y: 0; --tw-rotate: 0; --tw-skew-x: 0; --tw-skew-y: 0; --tw-scale-x: 1; --tw-scale-y: 1; --tw-scroll-snap-strictness: proximity; --tw-ring-offset-width: 0px; --tw-ring-offset-color: #fff; --tw-ring-color: rgb(59 130 246 / 0.5); --tw-ring-offset-shadow: 0 0 #0000; --tw-ring-shadow: 0 0 #0000; --tw-shadow: 0 0 #0000; --tw-shadow-colored: 0 0 #0000; color: #ffffff; font-weight: 400; text-indent: 24pt; font-family: 'Times New Roman'; line-height: 24px; font-size: 12pt; border: 0px solid #e5e7eb;\">hp</span><span style=\"box-sizing: border-box; --tw-border-spacing-x: 0; --tw-border-spacing-y: 0; --tw-translate-x: 0; --tw-translate-y: 0; --tw-rotate: 0; --tw-skew-x: 0; --tw-skew-y: 0; --tw-scale-x: 1; --tw-scale-y: 1; --tw-scroll-snap-strictness: proximity; --tw-ring-offset-width: 0px; --tw-ring-offset-color: #fff; --tw-ring-color: rgb(59 130 246 / 0.5); --tw-ring-offset-shadow: 0 0 #0000; --tw-ring-shadow: 0 0 #0000; --tw-shadow: 0 0 #0000; --tw-shadow-colored: 0 0 #0000; color: #ffffff; font-family: -apple-system, BlinkMacSystemFont, 'Segoe UI', Helvetica, Arial, sans-serif, 'Apple Color Emoji', 'Segoe UI Emoji', 'Segoe UI Symbol'; font-weight: 400; text-indent: 24pt; line-height: 24px; font-size: 12pt; border: 0px solid #e5e7eb;\">（马力）的均值</span></h3>"
   ]
  },
  {
   "cell_type": "code",
   "execution_count": null,
   "id": "5306aa64-895c-4a99-8258-43db0d0857b9",
   "metadata": {},
   "outputs": [],
   "source": []
  },
  {
   "cell_type": "markdown",
   "id": "f9c37664-ff28-4783-803e-8391bfafa464",
   "metadata": {},
   "source": [
    "<h2 class=\"MsoNormal\" style=\"text-indent: 24.0000pt; mso-char-indent-count: 2.0000; line-height: 150%;\"><span style=\"mso-spacerun: 'yes'; font-family: 宋体; mso-ascii-font-family: 'Times New Roman'; mso-hansi-font-family: 'Times New Roman'; mso-bidi-font-family: 'Times New Roman'; line-height: 150%; mso-bidi-font-weight: bold; font-size: 12.0000pt; mso-font-kerning: 1.0000pt;\"><span style=\"font-family: 宋体;\">使用如下方法规范化数组：</span><span style=\"font-family: Times New Roman;\">200</span><span style=\"font-family: 宋体;\">，</span><span style=\"font-family: Times New Roman;\">300</span><span style=\"font-family: 宋体;\">，</span><span style=\"font-family: Times New Roman;\">400</span><span style=\"font-family: 宋体;\">，</span><span style=\"font-family: Times New Roman;\">600</span><span style=\"font-family: 宋体;\">，</span><span style=\"font-family: Times New Roman;\">1000</span><span style=\"font-family: 宋体;\">。</span></span></h2>\n",
    "<ol>\n",
    "<li class=\"MsoNormal\" style=\"text-indent: 24pt; line-height: 150%;\"><span style=\"mso-spacerun: 'yes'; font-family: 宋体; mso-ascii-font-family: 'Times New Roman'; mso-hansi-font-family: 'Times New Roman'; mso-bidi-font-family: 'Times New Roman'; line-height: 150%; mso-bidi-font-weight: bold; font-size: 12.0000pt; mso-font-kerning: 1.0000pt;\">令</span><span style=\"mso-spacerun: 'yes'; font-family: 'Times New Roman'; mso-fareast-font-family: 宋体; line-height: 150%; mso-bidi-font-weight: bold; font-size: 12.0000pt; mso-font-kerning: 1.0000pt;\">min=0</span><span style=\"mso-spacerun: 'yes'; font-family: 宋体; mso-ascii-font-family: 'Times New Roman'; mso-hansi-font-family: 'Times New Roman'; mso-bidi-font-family: 'Times New Roman'; line-height: 150%; mso-bidi-font-weight: bold; font-size: 12.0000pt; mso-font-kerning: 1.0000pt;\">，</span><span style=\"mso-spacerun: 'yes'; font-family: 'Times New Roman'; mso-fareast-font-family: 宋体; line-height: 150%; mso-bidi-font-weight: bold; font-size: 12.0000pt; mso-font-kerning: 1.0000pt;\">max=1</span><span style=\"mso-spacerun: 'yes'; font-family: 宋体; mso-ascii-font-family: 'Times New Roman'; mso-hansi-font-family: 'Times New Roman'; mso-bidi-font-family: 'Times New Roman'; line-height: 150%; mso-bidi-font-weight: bold; font-size: 12.0000pt; mso-font-kerning: 1.0000pt;\"><span style=\"font-family: 宋体;\">，进行</span><span style=\"font-family: 宋体;\">&ldquo;最小－最大&rdquo;规范化；</span></span></li>\n",
    "<li class=\"MsoNormal\" style=\"text-indent: 24pt; line-height: 150%;\">标准差标准化；</li>\n",
    "<li class=\"MsoNormal\" style=\"text-indent: 24pt; line-height: 150%;\">小数定标规范化。</li>\n",
    "</ol>"
   ]
  },
  {
   "cell_type": "code",
   "execution_count": null,
   "id": "ab625cb2-cc78-4682-a964-664bc1a27b95",
   "metadata": {},
   "outputs": [],
   "source": []
  },
  {
   "cell_type": "markdown",
   "id": "93555e3b-4a97-4a4f-a175-15006ad7ad47",
   "metadata": {},
   "source": [
    "<h3 class=\"MsoNormal\"><span style=\"mso-spacerun: 'yes'; font-family: 宋体; mso-ascii-font-family: 'Times New Roman'; mso-hansi-font-family: 'Times New Roman'; mso-bidi-font-family: 'Times New Roman'; mso-bidi-font-weight: bold; font-size: 12.0000pt; mso-font-kerning: 1.0000pt;\">令</span><span style=\"mso-spacerun: 'yes'; font-family: 'Times New Roman'; mso-fareast-font-family: 宋体; mso-bidi-font-weight: bold; font-size: 12.0000pt; mso-font-kerning: 1.0000pt;\">min=0</span><span style=\"mso-spacerun: 'yes'; font-family: 宋体; mso-ascii-font-family: 'Times New Roman'; mso-hansi-font-family: 'Times New Roman'; mso-bidi-font-family: 'Times New Roman'; mso-bidi-font-weight: bold; font-size: 12.0000pt; mso-font-kerning: 1.0000pt;\">，</span><span style=\"mso-spacerun: 'yes'; font-family: 'Times New Roman'; mso-fareast-font-family: 宋体; mso-bidi-font-weight: bold; font-size: 12.0000pt; mso-font-kerning: 1.0000pt;\">max=1</span><span style=\"mso-spacerun: 'yes'; font-family: 宋体; mso-ascii-font-family: 'Times New Roman'; mso-hansi-font-family: 'Times New Roman'; mso-bidi-font-family: 'Times New Roman'; mso-bidi-font-weight: bold; font-size: 12.0000pt; mso-font-kerning: 1.0000pt;\"><span style=\"font-family: 宋体;\">，进行</span><span style=\"font-family: 宋体;\">&ldquo;最小－最大&rdquo;规范化</span></span></h3>"
   ]
  },
  {
   "cell_type": "code",
   "execution_count": null,
   "id": "f0bf7cab-5641-4a98-8cea-91c578ed146c",
   "metadata": {},
   "outputs": [],
   "source": []
  },
  {
   "cell_type": "markdown",
   "id": "b27eee34-3cd6-46bc-a8af-9deec2a67bda",
   "metadata": {},
   "source": [
    "<p class=\"MsoNormal\"><span style=\"mso-spacerun: 'yes'; font-family: 宋体; mso-ascii-font-family: 'Times New Roman'; mso-hansi-font-family: 'Times New Roman'; mso-bidi-font-family: 'Times New Roman'; mso-bidi-font-weight: bold; font-size: 12.0000pt; mso-font-kerning: 1.0000pt;\">标准差标准化</span></p>"
   ]
  },
  {
   "cell_type": "code",
   "execution_count": null,
   "id": "693b7709-bb22-46ec-a002-21cd9cd6fbab",
   "metadata": {},
   "outputs": [],
   "source": []
  },
  {
   "cell_type": "markdown",
   "id": "86b7eb5d-a826-4f0a-a5ec-03e68ef84fdf",
   "metadata": {},
   "source": [
    "<p class=\"MsoNormal\"><span style=\"mso-spacerun: 'yes'; font-family: 宋体; mso-ascii-font-family: 'Times New Roman'; mso-hansi-font-family: 'Times New Roman'; mso-bidi-font-family: 'Times New Roman'; mso-bidi-font-weight: bold; font-size: 12.0000pt; mso-font-kerning: 1.0000pt;\">小数定标规范化</span></p>"
   ]
  },
  {
   "cell_type": "code",
   "execution_count": null,
   "id": "691a319b-4a53-4755-abde-4a9eb9fadaba",
   "metadata": {},
   "outputs": [],
   "source": []
  },
  {
   "cell_type": "markdown",
   "id": "44ca4e3b-730f-4d2a-8a7d-fe76ba81e247",
   "metadata": {},
   "source": [
    "<h2 class=\"MsoNormal\"><span style=\"mso-spacerun: 'yes'; font-family: 宋体; mso-ascii-font-family: 'Times New Roman'; mso-hansi-font-family: 'Times New Roman'; mso-bidi-font-family: 'Times New Roman'; mso-bidi-font-weight: bold; font-size: 12.0000pt; mso-font-kerning: 1.0000pt;\"><span style=\"font-family: 宋体;\">假设</span><span style=\"font-family: Times New Roman;\">12</span><span style=\"font-family: 宋体;\">个销售价格记录已经排序：</span><span style=\"font-family: Times New Roman;\">5</span><span style=\"font-family: 宋体;\">，</span><span style=\"font-family: Times New Roman;\">10</span><span style=\"font-family: 宋体;\">，</span><span style=\"font-family: Times New Roman;\">11</span><span style=\"font-family: 宋体;\">，</span><span style=\"font-family: Times New Roman;\">13</span><span style=\"font-family: 宋体;\">，</span><span style=\"font-family: Times New Roman;\">15</span><span style=\"font-family: 宋体;\">，</span><span style=\"font-family: Times New Roman;\">35</span><span style=\"font-family: 宋体;\">，</span><span style=\"font-family: Times New Roman;\">50</span><span style=\"font-family: 宋体;\">，</span><span style=\"font-family: Times New Roman;\">55</span><span style=\"font-family: 宋体;\">，</span><span style=\"font-family: Times New Roman;\">72</span><span style=\"font-family: 宋体;\">，</span><span style=\"font-family: Times New Roman;\">92</span><span style=\"font-family: 宋体;\">，</span><span style=\"font-family: Times New Roman;\">204</span><span style=\"font-family: 宋体;\">，</span><span style=\"font-family: Times New Roman;\">215</span><span style=\"font-family: 宋体;\">。使用等宽法对其进行离散化处理</span></span></h2>"
   ]
  },
  {
   "cell_type": "code",
   "execution_count": null,
   "id": "c48f1b41-f11c-46cc-8898-ba0d27b5ff46",
   "metadata": {},
   "outputs": [],
   "source": []
  },
  {
   "cell_type": "markdown",
   "id": "e3929205-1076-4f22-b9c0-b4475f0876a3",
   "metadata": {},
   "source": [
    "<h2 class=\"MsoNormal\"><span style=\"mso-spacerun: 'yes'; font-family: 宋体; mso-ascii-font-family: 'Times New Roman'; mso-hansi-font-family: 'Times New Roman'; mso-bidi-font-family: 'Times New Roman'; mso-bidi-font-weight: bold; font-size: 12.0000pt; mso-font-kerning: 1.0000pt;\">自定义一个能够自动实现数据去重、缺失值中位数填补的函数</span></h2>"
   ]
  },
  {
   "cell_type": "code",
   "execution_count": null,
   "id": "cd06b48b-62f2-4238-994e-cd634a7bbc62",
   "metadata": {},
   "outputs": [],
   "source": []
  }
 ],
 "metadata": {
  "kernelspec": {
   "display_name": "Python 3 (ipykernel)",
   "language": "python",
   "name": "python3"
  },
  "language_info": {
   "codemirror_mode": {
    "name": "ipython",
    "version": 3
   },
   "file_extension": ".py",
   "mimetype": "text/x-python",
   "name": "python",
   "nbconvert_exporter": "python",
   "pygments_lexer": "ipython3",
   "version": "3.9.16"
  },
  "widgets": {
   "application/vnd.jupyter.widget-state+json": {
    "state": {},
    "version_major": 2,
    "version_minor": 0
   }
  }
 },
 "nbformat": 4,
 "nbformat_minor": 5
}
