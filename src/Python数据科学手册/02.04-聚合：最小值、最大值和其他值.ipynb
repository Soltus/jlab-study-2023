{
 "cells": [
  {
   "cell_type": "markdown",
   "metadata": {},
   "source": [
    "# Aggregations: Min, Max, and Everything In Between\n",
    "\n",
    "# 聚合：Min，Max和其他"
   ]
  },
  {
   "cell_type": "markdown",
   "metadata": {},
   "source": [
    "> Often when faced with a large amount of data, a first step is to compute summary statistics for the data in question.\n",
    "Perhaps the most common summary statistics are the mean and standard deviation, which allow you to summarize the \"typical\" values in a dataset, but other aggregates are useful as well (the sum, product, median, minimum and maximum, quantiles, etc.).\n",
    "\n",
    "通常来说，当我们面对大量数据时，第一步就是计算数据集的概要统计结果。也许最重要的概要统计数据就是平均值和标准差，它们能归纳出数据集典型的数值，但是其他的聚合函数也很用（如求和、乘积、中位值、最小值和最大值、分位数等）。\n",
    "\n",
    "> NumPy has fast built-in aggregation functions for working on arrays; we'll discuss and demonstrate some of them here.\n",
    "\n",
    "NumPy内建有非常快速的函数用于计算数组的统计值；本节中我们会讨论其中常用的部分。"
   ]
  },
  {
   "cell_type": "markdown",
   "metadata": {},
   "source": [
    "## Summing the Values in an Array\n",
    "\n",
    "## 在数组中求总和\n",
    "\n",
    "> As a quick example, consider computing the sum of all values in an array.\n",
    "Python itself can do this using the built-in ``sum`` function:\n",
    "\n",
    "首先，我们用一个简单例子来计算数组所有元素值的总和。使用Python內建的`sum`函数："
   ]
  },
  {
   "cell_type": "code",
   "execution_count": 2,
   "metadata": {
    "execution": {
     "iopub.execute_input": "2023-02-25T06:13:56.621775Z",
     "iopub.status.busy": "2023-02-25T06:13:56.621775Z",
     "iopub.status.idle": "2023-02-25T06:13:56.624776Z",
     "shell.execute_reply": "2023-02-25T06:13:56.624776Z",
     "shell.execute_reply.started": "2023-02-25T06:13:56.621775Z"
    }
   },
   "outputs": [],
   "source": [
    "import numpy as np"
   ]
  },
  {
   "cell_type": "code",
   "execution_count": 3,
   "metadata": {
    "execution": {
     "iopub.execute_input": "2023-02-25T06:13:56.626779Z",
     "iopub.status.busy": "2023-02-25T06:13:56.625777Z",
     "iopub.status.idle": "2023-02-25T06:13:56.632784Z",
     "shell.execute_reply": "2023-02-25T06:13:56.632784Z",
     "shell.execute_reply.started": "2023-02-25T06:13:56.626779Z"
    }
   },
   "outputs": [
    {
     "data": {
      "text/plain": [
       "50.12977729881564"
      ]
     },
     "execution_count": 3,
     "metadata": {},
     "output_type": "execute_result"
    }
   ],
   "source": [
    "L = np.random.random(100)\n",
    "sum(L)"
   ]
  },
  {
   "cell_type": "markdown",
   "metadata": {},
   "source": [
    "> The syntax is quite similar to that of NumPy's ``sum`` function, and the result is the same in the simplest case:\n",
    "\n",
    "NumPy的`sum`函数的语法也差不多，当然，结果也是一样的。"
   ]
  },
  {
   "cell_type": "code",
   "execution_count": 4,
   "metadata": {
    "execution": {
     "iopub.execute_input": "2023-02-25T06:13:56.637789Z",
     "iopub.status.busy": "2023-02-25T06:13:56.637789Z",
     "iopub.status.idle": "2023-02-25T06:13:56.642792Z",
     "shell.execute_reply": "2023-02-25T06:13:56.642792Z",
     "shell.execute_reply.started": "2023-02-25T06:13:56.637789Z"
    }
   },
   "outputs": [
    {
     "data": {
      "text/plain": [
       "50.129777298815625"
      ]
     },
     "execution_count": 4,
     "metadata": {},
     "output_type": "execute_result"
    }
   ],
   "source": [
    "np.sum(L)"
   ]
  },
  {
   "cell_type": "markdown",
   "metadata": {},
   "source": [
    "> However, because it executes the operation in compiled code, NumPy's version of the operation is computed much more quickly:\n",
    "\n",
    "然后，因为NumPy的函数是编译执行的，因此它的性能会远远超越Python的內建函数："
   ]
  },
  {
   "cell_type": "code",
   "execution_count": 5,
   "metadata": {
    "execution": {
     "iopub.execute_input": "2023-02-25T06:13:56.648798Z",
     "iopub.status.busy": "2023-02-25T06:13:56.648798Z",
     "iopub.status.idle": "2023-02-25T06:14:03.181937Z",
     "shell.execute_reply": "2023-02-25T06:14:03.181937Z",
     "shell.execute_reply.started": "2023-02-25T06:13:56.648798Z"
    }
   },
   "outputs": [
    {
     "name": "stdout",
     "output_type": "stream",
     "text": [
      "53.6 ms ± 797 µs per loop (mean ± std. dev. of 7 runs, 10 loops each)\n",
      "263 µs ± 1.21 µs per loop (mean ± std. dev. of 7 runs, 1,000 loops each)\n"
     ]
    }
   ],
   "source": [
    "big_array = np.random.rand(1000000)\n",
    "%timeit sum(big_array)\n",
    "%timeit np.sum(big_array)"
   ]
  },
  {
   "cell_type": "markdown",
   "metadata": {},
   "source": [
    "> Be careful, though: the ``sum`` function and the ``np.sum`` function are not identical, which can sometimes lead to confusion!\n",
    "In particular, their optional arguments have different meanings, and ``np.sum`` is aware of multiple array dimensions, as we will see in the following section.\n",
    "\n",
    "要注意的是：`sum`内建函数和`np.sum`并不完全相同，这有时会导致混乱。特别的，两个函数的可选参数有着不同的含义，而且`np.sum`函数可以处理多维数组运算，我们将在后续章节看到。"
   ]
  },
  {
   "cell_type": "markdown",
   "metadata": {},
   "source": [
    "## Minimum and Maximum\n",
    "\n",
    "## 最小值和最大值\n",
    "\n",
    "> Similarly, Python has built-in ``min`` and ``max`` functions, used to find the minimum value and maximum value of any given array:\n",
    "\n",
    "类似的，Python也有內建`min`和`max`函数，用来计算数组的最小值和最大值："
   ]
  },
  {
   "cell_type": "code",
   "execution_count": 6,
   "metadata": {
    "execution": {
     "iopub.execute_input": "2023-02-25T06:14:03.192946Z",
     "iopub.status.busy": "2023-02-25T06:14:03.192946Z",
     "iopub.status.idle": "2023-02-25T06:14:03.273524Z",
     "shell.execute_reply": "2023-02-25T06:14:03.273524Z",
     "shell.execute_reply.started": "2023-02-25T06:14:03.192946Z"
    }
   },
   "outputs": [
    {
     "data": {
      "text/plain": [
       "(7.266347640255688e-07, 0.9999989532596104)"
      ]
     },
     "execution_count": 6,
     "metadata": {},
     "output_type": "execute_result"
    }
   ],
   "source": [
    "min(big_array), max(big_array)"
   ]
  },
  {
   "cell_type": "markdown",
   "metadata": {},
   "source": [
    "> NumPy's corresponding functions have similar syntax, and again operate much more quickly:\n",
    "\n",
    "NumPy对应的函数也有相似的语法，但是执行高效很多："
   ]
  },
  {
   "cell_type": "code",
   "execution_count": 7,
   "metadata": {
    "execution": {
     "iopub.execute_input": "2023-02-25T06:14:03.278528Z",
     "iopub.status.busy": "2023-02-25T06:14:03.278528Z",
     "iopub.status.idle": "2023-02-25T06:14:03.282532Z",
     "shell.execute_reply": "2023-02-25T06:14:03.282532Z",
     "shell.execute_reply.started": "2023-02-25T06:14:03.278528Z"
    }
   },
   "outputs": [
    {
     "data": {
      "text/plain": [
       "(7.266347640255688e-07, 0.9999989532596104)"
      ]
     },
     "execution_count": 7,
     "metadata": {},
     "output_type": "execute_result"
    }
   ],
   "source": [
    "np.min(big_array), np.max(big_array)"
   ]
  },
  {
   "cell_type": "code",
   "execution_count": 8,
   "metadata": {
    "execution": {
     "iopub.execute_input": "2023-02-25T06:14:03.283532Z",
     "iopub.status.busy": "2023-02-25T06:14:03.283532Z",
     "iopub.status.idle": "2023-02-25T06:14:13.824317Z",
     "shell.execute_reply": "2023-02-25T06:14:13.824317Z",
     "shell.execute_reply.started": "2023-02-25T06:14:03.283532Z"
    }
   },
   "outputs": [
    {
     "name": "stdout",
     "output_type": "stream",
     "text": [
      "36.6 ms ± 4.15 ms per loop (mean ± std. dev. of 7 runs, 10 loops each)\n",
      "93.4 µs ± 2.43 µs per loop (mean ± std. dev. of 7 runs, 10,000 loops each)\n"
     ]
    }
   ],
   "source": [
    "%timeit min(big_array)\n",
    "%timeit np.min(big_array)"
   ]
  },
  {
   "cell_type": "markdown",
   "metadata": {},
   "source": [
    "> For ``min``, ``max``, ``sum``, and several other NumPy aggregates, a shorter syntax is to use methods of the array object itself:\n",
    "\n",
    "对于`min`，`max`，`sum`和其他NumPy聚合函数来说，也可以通过`ndarray`对象的相应方法进行调用："
   ]
  },
  {
   "cell_type": "code",
   "execution_count": 9,
   "metadata": {
    "execution": {
     "iopub.execute_input": "2023-02-25T06:14:13.831324Z",
     "iopub.status.busy": "2023-02-25T06:14:13.830323Z",
     "iopub.status.idle": "2023-02-25T06:14:13.836329Z",
     "shell.execute_reply": "2023-02-25T06:14:13.836329Z",
     "shell.execute_reply.started": "2023-02-25T06:14:13.830323Z"
    }
   },
   "outputs": [
    {
     "name": "stdout",
     "output_type": "stream",
     "text": [
      "7.266347640255688e-07 0.9999989532596104 499999.15393598285\n"
     ]
    }
   ],
   "source": [
    "print(big_array.min(), big_array.max(), big_array.sum())"
   ]
  },
  {
   "cell_type": "markdown",
   "metadata": {},
   "source": [
    "> Whenever possible, make sure that you are using the NumPy version of these aggregates when operating on NumPy arrays!\n",
    "\n",
    "任何情况下，当你操作NumPy数组时，你都应该使用NumPy的聚合函数来代替Python的內建函数。"
   ]
  },
  {
   "cell_type": "markdown",
   "metadata": {},
   "source": [
    "### Multi dimensional aggregates\n",
    "\n",
    "### 多维聚合\n",
    "\n",
    "> One common type of aggregation operation is an aggregate along a row or column.\n",
    "Say you have some data stored in a two-dimensional array:\n",
    "\n",
    "还有一种需求，我们可能需要沿着行或列进行聚合。比方说你有一个二维数组："
   ]
  },
  {
   "cell_type": "code",
   "execution_count": 10,
   "metadata": {
    "execution": {
     "iopub.execute_input": "2023-02-25T06:14:13.848923Z",
     "iopub.status.busy": "2023-02-25T06:14:13.847922Z",
     "iopub.status.idle": "2023-02-25T06:14:13.854929Z",
     "shell.execute_reply": "2023-02-25T06:14:13.853928Z",
     "shell.execute_reply.started": "2023-02-25T06:14:13.848923Z"
    }
   },
   "outputs": [
    {
     "name": "stdout",
     "output_type": "stream",
     "text": [
      "[[0.91686777 0.58420519 0.73362318 0.22097845]\n",
      " [0.73213936 0.98084121 0.85134704 0.84868893]\n",
      " [0.56591394 0.91551103 0.86265027 0.27103691]]\n"
     ]
    }
   ],
   "source": [
    "M = np.random.random((3, 4))\n",
    "print(M)"
   ]
  },
  {
   "cell_type": "markdown",
   "metadata": {},
   "source": [
    "> By default, each NumPy aggregation function will return the aggregate over the entire array:\n",
    "\n",
    "默认情况下，NumPy聚合函数都会返回整个数组的聚合结果标量："
   ]
  },
  {
   "cell_type": "code",
   "execution_count": 11,
   "metadata": {
    "execution": {
     "iopub.execute_input": "2023-02-25T06:14:13.862440Z",
     "iopub.status.busy": "2023-02-25T06:14:13.862440Z",
     "iopub.status.idle": "2023-02-25T06:14:13.867445Z",
     "shell.execute_reply": "2023-02-25T06:14:13.867445Z",
     "shell.execute_reply.started": "2023-02-25T06:14:13.862440Z"
    }
   },
   "outputs": [
    {
     "data": {
      "text/plain": [
       "8.483803259889335"
      ]
     },
     "execution_count": 11,
     "metadata": {},
     "output_type": "execute_result"
    }
   ],
   "source": [
    "M.sum()"
   ]
  },
  {
   "cell_type": "markdown",
   "metadata": {},
   "source": [
    "> Aggregation functions take an additional argument specifying the *axis* along which the aggregate is computed. For example, we can find the minimum value within each column by specifying ``axis=0``:\n",
    "\n",
    "聚合函数可以接收一个额外的参数指定一个*轴*让函数沿着这个方向进行聚合运算。例如，我们可以沿着行的方向计算每列的最小值，通过指定`axis=0`参数即可："
   ]
  },
  {
   "cell_type": "code",
   "execution_count": 12,
   "metadata": {
    "execution": {
     "iopub.execute_input": "2023-02-25T06:14:13.874481Z",
     "iopub.status.busy": "2023-02-25T06:14:13.874106Z",
     "iopub.status.idle": "2023-02-25T06:14:13.879990Z",
     "shell.execute_reply": "2023-02-25T06:14:13.879990Z",
     "shell.execute_reply.started": "2023-02-25T06:14:13.874481Z"
    }
   },
   "outputs": [
    {
     "data": {
      "text/plain": [
       "array([0.56591394, 0.58420519, 0.73362318, 0.22097845])"
      ]
     },
     "execution_count": 12,
     "metadata": {},
     "output_type": "execute_result"
    }
   ],
   "source": [
    "M.min(axis=0)"
   ]
  },
  {
   "cell_type": "markdown",
   "metadata": {},
   "source": [
    "> The function returns four values, corresponding to the four columns of numbers.\n",
    "\n",
    "这个函数返回四个值，对应着四列。\n",
    "\n",
    "> Similarly, we can find the maximum value within each row:\n",
    "\n",
    "类似的，我们也可以计算每一行的最大值："
   ]
  },
  {
   "cell_type": "code",
   "execution_count": 13,
   "metadata": {
    "execution": {
     "iopub.execute_input": "2023-02-25T06:14:13.887997Z",
     "iopub.status.busy": "2023-02-25T06:14:13.886997Z",
     "iopub.status.idle": "2023-02-25T06:14:13.894003Z",
     "shell.execute_reply": "2023-02-25T06:14:13.894003Z",
     "shell.execute_reply.started": "2023-02-25T06:14:13.887997Z"
    }
   },
   "outputs": [
    {
     "data": {
      "text/plain": [
       "array([0.91686777, 0.98084121, 0.91551103])"
      ]
     },
     "execution_count": 13,
     "metadata": {},
     "output_type": "execute_result"
    }
   ],
   "source": [
    "M.max(axis=1)"
   ]
  },
  {
   "cell_type": "markdown",
   "metadata": {},
   "source": [
    "> The way the axis is specified here can be confusing to users coming from other languages.\n",
    "The ``axis`` keyword specifies the *dimension of the array that will be collapsed*, rather than the dimension that will be returned.\n",
    "So specifying ``axis=0`` means that the first axis will be collapsed: for two-dimensional arrays, this means that values within each column will be aggregated.\n",
    "\n",
    "上述指定axis参数的方式可能会让具有其他编程语言基础的用户感到不适应。这里的`axis`参数指定的是*让数组沿着这个方向进行压缩*，而不是指定返回值的方向。因此指定`axis=0`意味着第一个维度将被压缩：对于一个二维数组来说，就是数组将沿着列的方向进行聚合运算操作。"
   ]
  },
  {
   "cell_type": "markdown",
   "metadata": {},
   "source": [
    "### Other aggregation functions\n",
    "\n",
    "### 其他聚合函数\n",
    "\n",
    "> NumPy provides many other aggregation functions, but we won't discuss them in detail here.\n",
    "Additionally, most aggregates have a ``NaN``-safe counterpart that computes the result while ignoring missing values, which are marked by the special IEEE floating-point ``NaN`` value (for a fuller discussion of missing data, see [Handling Missing Data](03.04-Missing-Values.ipynb)).\n",
    "Some of these ``NaN``-safe functions were not added until NumPy 1.8, so they will not be available in older NumPy versions.\n",
    "\n",
    "NumPy提供了许多其他聚合函数，但是我们不会在这里详细讨论它们。需要说明的是，很多聚合函数都有一个`NaN`安全的版本，可以忽略空缺的数据并计算得到正确的结果。`NaN`即为IEEE标准中浮点数非数值的定义（完整的讨论空缺数据的内容请参见[处理空缺数据](03.04-Missing-Values.ipynb)）。部分`NaN`安全的函数版本是在NumPy 1.8之后加入的，因此在老版本的NumPy中可能无法使用。\n",
    "\n",
    "> The following table provides a list of useful aggregation functions available in NumPy:\n",
    "\n",
    "下表列出了NumPy中有用的聚合函数：\n",
    "\n",
    "| 函数名称      |   NaN安全版本  | 说明                                   |\n",
    "|-------------------|---------------------|-----------------------------------------------|\n",
    "| ``np.sum``        | ``np.nansum``       | 计算总和                       |\n",
    "| ``np.prod``       | ``np.nanprod``      | 计算乘积                   |\n",
    "| ``np.mean``       | ``np.nanmean``      | 计算平均值                      |\n",
    "| ``np.std``        | ``np.nanstd``       | 计算标准差                    |\n",
    "| ``np.var``        | ``np.nanvar``       | 计算方差                              |\n",
    "| ``np.min``        | ``np.nanmin``       | 计算最小值                            |\n",
    "| ``np.max``        | ``np.nanmax``       | 计算最大值                            |\n",
    "| ``np.argmin``     | ``np.nanargmin``    | 寻找最小值的序号                   |\n",
    "| ``np.argmax``     | ``np.nanargmax``    | 寻找最大值的序号                   |\n",
    "| ``np.median``     | ``np.nanmedian``    | 计算中位值                    |\n",
    "| ``np.percentile`` | ``np.nanpercentile``| 计算百分比分布的对应值     |\n",
    "| ``np.any``        | N/A                 | 是否含有True值        |\n",
    "| ``np.all``        | N/A                 | 是否全为True值        |\n",
    "\n",
    "> We will see these aggregates often throughout the rest of the book.\n",
    "\n",
    "我们在本书后续内容中会经常看到这些聚合函数。"
   ]
  },
  {
   "cell_type": "markdown",
   "metadata": {},
   "source": [
    "## Example: What is the Average Height of US Presidents?\n",
    "\n",
    "## 例子：美国总统的平均身高？"
   ]
  },
  {
   "cell_type": "markdown",
   "metadata": {},
   "source": [
    "> Aggregates available in NumPy can be extremely useful for summarizing a set of values.\n",
    "As a simple example, let's consider the heights of all US presidents.\n",
    "This data is available in the file *president_heights.csv*, which is a simple comma-separated list of labels and values:\n",
    "\n",
    "在NumPy中使用聚合统计来对一个数据集进行概要说明是非常有用的。下面我们使用美国总统的身高作为一个简单的例子来说明。这些数据存储在文件*president_heights.csv*里，文件格式就是简单的逗号分隔的文本文件："
   ]
  },
  {
   "cell_type": "code",
   "execution_count": 14,
   "metadata": {
    "execution": {
     "iopub.execute_input": "2023-02-25T06:14:13.920026Z",
     "iopub.status.busy": "2023-02-25T06:14:13.919025Z",
     "iopub.status.idle": "2023-02-25T06:14:13.990598Z",
     "shell.execute_reply": "2023-02-25T06:14:13.989597Z",
     "shell.execute_reply.started": "2023-02-25T06:14:13.920026Z"
    }
   },
   "outputs": [
    {
     "name": "stderr",
     "output_type": "stream",
     "text": [
      "'head' 不是内部或外部命令，也不是可运行的程序\n",
      "或批处理文件。\n"
     ]
    }
   ],
   "source": [
    "!head -4 data/president_heights.csv"
   ]
  },
  {
   "cell_type": "markdown",
   "metadata": {},
   "source": [
    "> We'll use the Pandas package, which we'll explore more fully in [Chapter 3](03.00-Introduction-to-Pandas.ipynb), to read the file and extract this information (note that the heights are measured in centimeters).\n",
    "\n",
    "我们会使用Pandas包来读取文件和提取数据（注意身高单位是厘米），Pandas的相关内容我们会在[第三章](03.00-Introduction-to-Pandas.ipynb)中详细介绍。"
   ]
  },
  {
   "cell_type": "code",
   "execution_count": 15,
   "metadata": {
    "execution": {
     "iopub.execute_input": "2023-02-25T06:14:13.998605Z",
     "iopub.status.busy": "2023-02-25T06:14:13.997605Z",
     "iopub.status.idle": "2023-02-25T06:14:14.051161Z",
     "shell.execute_reply": "2023-02-25T06:14:14.051161Z",
     "shell.execute_reply.started": "2023-02-25T06:14:13.998605Z"
    }
   },
   "outputs": [
    {
     "name": "stdout",
     "output_type": "stream",
     "text": [
      "[189 170 189 163 183 171 185 168 173 183 173 173 175 178 183 193 178 173\n",
      " 174 183 183 168 170 178 182 180 183 178 182 188 175 179 183 193 182 183\n",
      " 177 185 188 188 182 185]\n"
     ]
    }
   ],
   "source": [
    "import pandas as pd\n",
    "data = pd.read_csv('data/president_heights.csv')\n",
    "heights = np.array(data['height(cm)'])\n",
    "print(heights)"
   ]
  },
  {
   "cell_type": "markdown",
   "metadata": {},
   "source": [
    "> Now that we have this data array, we can compute a variety of summary statistics:\n",
    "\n",
    "获得了NumPy数组之后，我们就能计算各种的基本统计数据了："
   ]
  },
  {
   "cell_type": "code",
   "execution_count": 16,
   "metadata": {
    "execution": {
     "iopub.execute_input": "2023-02-25T06:14:14.057168Z",
     "iopub.status.busy": "2023-02-25T06:14:14.057168Z",
     "iopub.status.idle": "2023-02-25T06:14:14.062172Z",
     "shell.execute_reply": "2023-02-25T06:14:14.062172Z",
     "shell.execute_reply.started": "2023-02-25T06:14:14.057168Z"
    }
   },
   "outputs": [
    {
     "name": "stdout",
     "output_type": "stream",
     "text": [
      "Mean height:        179.73809523809524\n",
      "Standard deviation: 6.931843442745892\n",
      "Minimum height:     163\n",
      "Maximum height:     193\n"
     ]
    }
   ],
   "source": [
    "print(\"Mean height:       \", heights.mean()) # 身高平均值\n",
    "print(\"Standard deviation:\", heights.std()) # 标准差\n",
    "print(\"Minimum height:    \", heights.min()) # 最小值\n",
    "print(\"Maximum height:    \", heights.max()) # 最大值"
   ]
  },
  {
   "cell_type": "markdown",
   "metadata": {},
   "source": [
    "> Note that in each case, the aggregation operation reduced the entire array to a single summarizing value, which gives us information about the distribution of values.\n",
    "We may also wish to compute quantiles:\n",
    "\n",
    "上述结果中，每个聚合函数都将整个数组计算后得到一个标量值，可以让我们初步了解数据的基本分布信息。下面来计算分位值："
   ]
  },
  {
   "cell_type": "code",
   "execution_count": 17,
   "metadata": {
    "execution": {
     "iopub.execute_input": "2023-02-25T06:14:14.068177Z",
     "iopub.status.busy": "2023-02-25T06:14:14.068177Z",
     "iopub.status.idle": "2023-02-25T06:14:14.073182Z",
     "shell.execute_reply": "2023-02-25T06:14:14.073182Z",
     "shell.execute_reply.started": "2023-02-25T06:14:14.068177Z"
    }
   },
   "outputs": [
    {
     "name": "stdout",
     "output_type": "stream",
     "text": [
      "25th percentile:    174.25\n",
      "Median:             182.0\n",
      "75th percentile:    183.0\n"
     ]
    }
   ],
   "source": [
    "print(\"25th percentile:   \", np.percentile(heights, 25)) # 25% 分位值\n",
    "print(\"Median:            \", np.median(heights)) # 50% 分位值 - 中位值\n",
    "print(\"75th percentile:   \", np.percentile(heights, 75)) # 75% 分位值"
   ]
  },
  {
   "cell_type": "markdown",
   "metadata": {},
   "source": [
    "> We see that the median height of US presidents is 182 cm, or just shy of six feet.\n",
    "\n",
    "我们看到美国总统身高的中位值是182厘米，也就是6英尺。\n",
    "\n",
    "> Of course, sometimes it's more useful to see a visual representation of this data, which we can accomplish using tools in Matplotlib (we'll discuss Matplotlib more fully in [Chapter 4](04.00-Introduction-To-Matplotlib.ipynb)). For example, this code generates the following chart:\n",
    "\n",
    "当然，有时对数据进行图表展示会更加直观，我们可以通过Matplotlib工具进行（Matplotlib的知识会在[第四章](04.00-Introduction-To-Matplotlib.ipynb)详细介绍）。例如，下述代码产生相应的图表："
   ]
  },
  {
   "cell_type": "code",
   "execution_count": 18,
   "metadata": {
    "execution": {
     "iopub.execute_input": "2023-02-25T06:14:14.082191Z",
     "iopub.status.busy": "2023-02-25T06:14:14.082191Z",
     "iopub.status.idle": "2023-02-25T06:14:20.578885Z",
     "shell.execute_reply": "2023-02-25T06:14:20.578366Z",
     "shell.execute_reply.started": "2023-02-25T06:14:14.082191Z"
    }
   },
   "outputs": [],
   "source": [
    "%matplotlib inline\n",
    "import matplotlib.pyplot as plt\n",
    "import seaborn; seaborn.set()  # 设置图表的风格为seaborn"
   ]
  },
  {
   "cell_type": "code",
   "execution_count": 19,
   "metadata": {
    "execution": {
     "iopub.execute_input": "2023-02-25T06:14:20.580488Z",
     "iopub.status.busy": "2023-02-25T06:14:20.579985Z",
     "iopub.status.idle": "2023-02-25T06:14:20.987854Z",
     "shell.execute_reply": "2023-02-25T06:14:20.987854Z",
     "shell.execute_reply.started": "2023-02-25T06:14:20.580488Z"
    }
   },
   "outputs": [
    {
     "data": {
      "image/png": "[encoded data removed]",
      "text/plain": [
       "<Figure size 640x480 with 1 Axes>"
      ]
     },
     "metadata": {},
     "output_type": "display_data"
    }
   ],
   "source": [
    "plt.hist(heights)\n",
    "plt.title('Height Distribution of US Presidents')\n",
    "plt.xlabel('height (cm)')\n",
    "plt.ylabel('number');"
   ]
  },
  {
   "cell_type": "markdown",
   "metadata": {},
   "source": [
    "> These aggregates are some of the fundamental pieces of exploratory data analysis that we'll explore in more depth in later chapters of the book.\n",
    "\n",
    "这些聚合数据提供了我们对于数据集最基本的理解，我们会在本书后续章节更加深入的讨论它们。"
   ]
  }
 ],
 "metadata": {
  "anaconda-cloud": {},
  "kernelspec": {
   "display_name": "Python 3 (ipykernel)",
   "language": "python",
   "name": "python3"
  },
  "language_info": {
   "codemirror_mode": {
    "name": "ipython",
    "version": 3
   },
   "file_extension": ".py",
   "mimetype": "text/x-python",
   "name": "python",
   "nbconvert_exporter": "python",
   "pygments_lexer": "ipython3",
   "version": "3.10.9"
  },
  "widgets": {
   "application/vnd.jupyter.widget-state+json": {
    "state": {},
    "version_major": 2,
    "version_minor": 0
   }
  }
 },
 "nbformat": 4,
 "nbformat_minor": 4
}
