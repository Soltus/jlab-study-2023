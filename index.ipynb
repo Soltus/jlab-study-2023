{
 "cells": [
  {
   "cell_type": "markdown",
   "id": "9ce9dc8a-37bd-4c05-b88e-df5801d2a93e",
   "metadata": {},
   "source": [
    "<h1 id=\"原生依赖管理\">原生依赖管理</h1>\n",
    "<blockquote>\n",
    "<p>不推荐使用</p>\n",
    "</blockquote>"
   ]
  },
  {
   "cell_type": "code",
   "execution_count": null,
   "id": "ab1bac9c-ce31-4810-acea-014bdd6cd7fa",
   "metadata": {
    "tags": []
   },
   "outputs": [],
   "source": [
    "!pip freeze > dirty.requirements.txt"
   ]
  },
  {
   "cell_type": "code",
   "execution_count": null,
   "id": "b976282d-8cf5-44f8-bddb-f657d253dc70",
   "metadata": {
    "tags": []
   },
   "outputs": [],
   "source": [
    "!pip install -r dirty.requirements.txt -i https://mirrors.tencent.com/pypi/simple"
   ]
  },
  {
   "cell_type": "markdown",
   "id": "a428e102-eb76-49bf-bb8e-7267cfae5f4a",
   "metadata": {
    "tags": []
   },
   "source": [
    "<h1>适用于Binder的依赖管理</h1>"
   ]
  },
  {
   "cell_type": "markdown",
   "id": "b26d6ee8-fd2b-4e9c-9453-678d8cb544af",
   "metadata": {},
   "source": [
    "<p><span style=\"color: #169179;\">生成 binder 专用的依赖清单（linux）应当在 linux 环境下进行，Windows 电脑可使用 WSL2</span></p>\n",
    "<p><span style=\"color: #169179;\">首先运行命令 <code>pip -V</code>&nbsp;检查</span></p>\n",
    "<p><span style=\"color: #169179;\">确认生成 requirements.txt &nbsp;</span><span style=\"color: #169179;\"><code>pip-compile --quiet --upgrade --resolver=backtracking requirements.in</code></span></p>"
   ]
  },
  {
   "cell_type": "markdown",
   "id": "b8ade299-2fbd-435f-8e78-e56f0eab7e76",
   "metadata": {},
   "source": [
    "<h1>甜蜜蜜的依赖管理</h1>"
   ]
  },
  {
   "cell_type": "markdown",
   "id": "6281db30-496b-4496-a16f-f78650012617",
   "metadata": {},
   "source": [
    "<p><span style=\"color: #169179;\">这是绝佳的依赖管理，只需要保持一致的 Windows + Python 3.10</span></p>\n",
    "<p><span style=\"color: #169179;\">根据 README.md 复苏说明，随时随地部署 Jupyter Lab ，就如同安装普通软件一样简单</span></p>"
   ]
  },
  {
   "cell_type": "code",
   "execution_count": null,
   "id": "acaff651-0be6-41d2-b41a-0ea552b813fa",
   "metadata": {},
   "outputs": [],
   "source": [
    "# !pip install pip-tools -i https://mirrors.tencent.com/pypi/simple"
   ]
  },
  {
   "cell_type": "code",
   "execution_count": null,
   "id": "208ebefc-053d-486d-af30-3d95e3eee16f",
   "metadata": {
    "tags": []
   },
   "outputs": [],
   "source": [
    "# 生成 windows AMD64平台的依赖清单\n",
    "# win.requirements.in 不是UTF-8编码，因此需要使用VSCode打开\n",
    "!python -m piptools compile --quiet --upgrade --resolver=backtracking win.requirements.in --output-file win.requirements.txt"
   ]
  },
  {
   "cell_type": "markdown",
   "id": "2de8b9b3-ef22-4813-8f8e-5d75e9f9e031",
   "metadata": {},
   "source": [
    "<h1>初始化工作</h1>"
   ]
  },
  {
   "cell_type": "code",
   "execution_count": null,
   "id": "6c9bf879-abad-48b0-ae16-5fab7ae5cf23",
   "metadata": {},
   "outputs": [],
   "source": [
    "# REF https://nbdime.readthedocs.io/en/latest/\n",
    "# 激活差异对比工具\n",
    "!nbdime config-git --enable --global"
   ]
  }
 ],
 "metadata": {
  "kernelspec": {
   "display_name": "Python 3 (ipykernel)",
   "language": "python",
   "name": "python3"
  },
  "language_info": {
   "codemirror_mode": {
    "name": "ipython",
    "version": 3
   },
   "file_extension": ".py",
   "mimetype": "text/x-python",
   "name": "python",
   "nbconvert_exporter": "python",
   "pygments_lexer": "ipython3",
   "version": "3.10.9"
  },
  "widgets": {
   "application/vnd.jupyter.widget-state+json": {
    "state": {},
    "version_major": 2,
    "version_minor": 0
   }
  }
 },
 "nbformat": 4,
 "nbformat_minor": 5
}
