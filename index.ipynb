{
 "cells": [
  {
   "cell_type": "markdown",
   "id": "9ce9dc8a-37bd-4c05-b88e-df5801d2a93e",
   "metadata": {},
   "source": [
    "<h1 id=\"原生依赖管理\">原生依赖管理</h1>\n",
    "<blockquote>\n",
    "<p>不推荐使用</p>\n",
    "</blockquote>"
   ]
  },
  {
   "cell_type": "code",
   "execution_count": null,
   "id": "ab1bac9c-ce31-4810-acea-014bdd6cd7fa",
   "metadata": {
    "tags": []
   },
   "outputs": [],
   "source": [
    "!pip freeze > dirty.requirements.txt"
   ]
  },
  {
   "cell_type": "code",
   "execution_count": null,
   "id": "b976282d-8cf5-44f8-bddb-f657d253dc70",
   "metadata": {
    "tags": []
   },
   "outputs": [],
   "source": [
    "!pip install -r dirty.requirements.txt -i https://mirrors.tencent.com/pypi/simple"
   ]
  },
  {
   "cell_type": "markdown",
   "id": "a428e102-eb76-49bf-bb8e-7267cfae5f4a",
   "metadata": {
    "tags": []
   },
   "source": [
    "<h1 id=\"适用于Binder的依赖管理\">适用于<span style=\"font-size: 24pt;\"><a style=\"font-weight: 400; color: #3598db;\" href=\"https://mybinder.org/\" target=\"_blank\" rel=\"noopener\">Binder</a></span>的依赖管理</h1>"
   ]
  },
  {
   "cell_type": "markdown",
   "id": "b26d6ee8-fd2b-4e9c-9453-678d8cb544af",
   "metadata": {},
   "source": [
    "<p><span style=\"color: #169179;\">生成 binder 专用的依赖清单（linux）应当在 linux 环境下进行，Windows 电脑可使用 WSL2</span></p>\n",
    "<p><span style=\"color: #169179;\">首先运行命令 <code>pip -V</code>&nbsp;检查</span></p>\n",
    "<p><span style=\"color: #169179;\">确认生成 requirements.txt &nbsp;</span><span style=\"color: #169179;\"><code>pip-compile --quiet --upgrade --resolver=backtracking requirements.in</code></span></p>\n",
    "<p>&nbsp;</p>"
   ]
  },
  {
   "cell_type": "markdown",
   "id": "b8ade299-2fbd-435f-8e78-e56f0eab7e76",
   "metadata": {},
   "source": [
    "<h1>甜蜜蜜的依赖管理</h1>"
   ]
  },
  {
   "cell_type": "markdown",
   "id": "6281db30-496b-4496-a16f-f78650012617",
   "metadata": {},
   "source": [
    "<p><span style=\"color: #169179;\">这是绝佳的依赖管理，只需要保持一致的 Windows + Python 3.10</span></p>\n",
    "<p><span style=\"color: #169179;\">根据 README.md 复苏说明，随时随地部署 Jupyter Lab ，就如同安装普通软件一样简单</span></p>"
   ]
  },
  {
   "cell_type": "code",
   "execution_count": null,
   "id": "acaff651-0be6-41d2-b41a-0ea552b813fa",
   "metadata": {},
   "outputs": [],
   "source": [
    "# !pip install pip-tools -i https://mirrors.tencent.com/pypi/simple"
   ]
  },
  {
   "cell_type": "code",
   "execution_count": 4,
   "id": "208ebefc-053d-486d-af30-3d95e3eee16f",
   "metadata": {
    "tags": []
   },
   "outputs": [
    {
     "name": "stderr",
     "output_type": "stream",
     "text": [
      "    error: subprocess-exited-with-error\n",
      "    \n",
      "    python setup.py egg_info did not run successfully.\n",
      "    exit code: 1\n",
      "    \n",
      "    [12 lines of output]\n",
      "    Traceback (most recent call last):\n",
      "      File \"<string>\", line 2, in <module>\n",
      "      File \"<pip-setuptools-caller>\", line 34, in <module>\n",
      "      File \"C:\\Windows\\Temp\\pip-resolve-i6stwgvu\\scrapy_a99e37c1627840febdbb1f9aee5588ec\\setup.py\", line 67, in <module>\n",
      "        data = [f for f in filenames if is_not_module(f)]\n",
      "      File \"C:\\Windows\\Temp\\pip-resolve-i6stwgvu\\scrapy_a99e37c1627840febdbb1f9aee5588ec\\setup.py\", line 67, in <listcomp>\n",
      "        data = [f for f in filenames if is_not_module(f)]\n",
      "      File \"C:\\Windows\\Temp\\pip-resolve-i6stwgvu\\scrapy_a99e37c1627840febdbb1f9aee5588ec\\setup.py\", line 58, in is_not_module\n",
      "        return os.path.splitext(f)[1] not in ['.py', '.pyc', '.pyo']\n",
      "      File \"D:\\X-S01\\conda3\\envs\\lab\\lib\\ntpath.py\", line 230, in splitext\n",
      "        p = os.fspath(p)\n",
      "    TypeError: expected str, bytes or os.PathLike object, not TextIOWrapper\n",
      "    [end of output]\n",
      "    \n",
      "    note: This error originates from a subprocess, and is likely not a problem with pip.\n",
      "Traceback (most recent call last):\n",
      "  File \"D:\\X-S01\\conda3\\envs\\lab\\lib\\site-packages\\pip\\_internal\\operations\\build\\metadata_legacy.py\", line 64, in generate_metadata\n",
      "    call_subprocess(\n",
      "  File \"D:\\X-S01\\conda3\\envs\\lab\\lib\\site-packages\\pip\\_internal\\utils\\subprocess.py\", line 224, in call_subprocess\n",
      "    raise error\n",
      "pip._internal.exceptions.InstallationSubprocessError: python setup.py egg_info exited with 1\n",
      "\n",
      "The above exception was the direct cause of the following exception:\n",
      "\n",
      "Traceback (most recent call last):\n",
      "  File \"D:\\X-S01\\conda3\\envs\\lab\\lib\\runpy.py\", line 196, in _run_module_as_main\n",
      "    return _run_code(code, main_globals, None,\n",
      "  File \"D:\\X-S01\\conda3\\envs\\lab\\lib\\runpy.py\", line 86, in _run_code\n",
      "    exec(code, run_globals)\n",
      "  File \"D:\\X-S01\\conda3\\envs\\lab\\lib\\site-packages\\piptools\\__main__.py\", line 19, in <module>\n",
      "    cli()\n",
      "  File \"D:\\X-S01\\conda3\\envs\\lab\\lib\\site-packages\\click\\core.py\", line 1130, in __call__\n",
      "    return self.main(*args, **kwargs)\n",
      "  File \"D:\\X-S01\\conda3\\envs\\lab\\lib\\site-packages\\click\\core.py\", line 1055, in main\n",
      "    rv = self.invoke(ctx)\n",
      "  File \"D:\\X-S01\\conda3\\envs\\lab\\lib\\site-packages\\click\\core.py\", line 1657, in invoke\n",
      "    return _process_result(sub_ctx.command.invoke(sub_ctx))\n",
      "  File \"D:\\X-S01\\conda3\\envs\\lab\\lib\\site-packages\\click\\core.py\", line 1404, in invoke\n",
      "    return ctx.invoke(self.callback, **ctx.params)\n",
      "  File \"D:\\X-S01\\conda3\\envs\\lab\\lib\\site-packages\\click\\core.py\", line 760, in invoke\n",
      "    return __callback(*args, **kwargs)\n",
      "  File \"D:\\X-S01\\conda3\\envs\\lab\\lib\\site-packages\\click\\decorators.py\", line 26, in new_func\n",
      "    return f(get_current_context(), *args, **kwargs)\n",
      "  File \"D:\\X-S01\\conda3\\envs\\lab\\lib\\site-packages\\piptools\\scripts\\compile.py\", line 589, in cli\n",
      "    results = resolver.resolve(max_rounds=max_rounds)\n",
      "  File \"D:\\X-S01\\conda3\\envs\\lab\\lib\\site-packages\\piptools\\resolver.py\", line 590, in resolve\n",
      "    is_resolved = self._do_resolve(\n",
      "  File \"D:\\X-S01\\conda3\\envs\\lab\\lib\\site-packages\\piptools\\resolver.py\", line 622, in _do_resolve\n",
      "    resolver.resolve(\n",
      "  File \"D:\\X-S01\\conda3\\envs\\lab\\lib\\site-packages\\pip\\_internal\\resolution\\resolvelib\\resolver.py\", line 92, in resolve\n",
      "    result = self._result = resolver.resolve(\n",
      "  File \"D:\\X-S01\\conda3\\envs\\lab\\lib\\site-packages\\pip\\_vendor\\resolvelib\\resolvers.py\", line 481, in resolve\n",
      "    state = resolution.resolve(requirements, max_rounds=max_rounds)\n",
      "  File \"D:\\X-S01\\conda3\\envs\\lab\\lib\\site-packages\\pip\\_vendor\\resolvelib\\resolvers.py\", line 373, in resolve\n",
      "    failure_causes = self._attempt_to_pin_criterion(name)\n",
      "  File \"D:\\X-S01\\conda3\\envs\\lab\\lib\\site-packages\\pip\\_vendor\\resolvelib\\resolvers.py\", line 211, in _attempt_to_pin_criterion\n",
      "    for candidate in criterion.candidates:\n",
      "  File \"D:\\X-S01\\conda3\\envs\\lab\\lib\\site-packages\\pip\\_internal\\resolution\\resolvelib\\found_candidates.py\", line 143, in <genexpr>\n",
      "    return (c for c in iterator if id(c) not in self._incompatible_ids)\n",
      "  File \"D:\\X-S01\\conda3\\envs\\lab\\lib\\site-packages\\pip\\_internal\\resolution\\resolvelib\\found_candidates.py\", line 47, in _iter_built\n",
      "    candidate = func()\n",
      "  File \"D:\\X-S01\\conda3\\envs\\lab\\lib\\site-packages\\pip\\_internal\\resolution\\resolvelib\\factory.py\", line 206, in _make_candidate_from_link\n",
      "    self._link_candidate_cache[link] = LinkCandidate(\n",
      "  File \"D:\\X-S01\\conda3\\envs\\lab\\lib\\site-packages\\pip\\_internal\\resolution\\resolvelib\\candidates.py\", line 297, in __init__\n",
      "    super().__init__(\n",
      "  File \"D:\\X-S01\\conda3\\envs\\lab\\lib\\site-packages\\pip\\_internal\\resolution\\resolvelib\\candidates.py\", line 162, in __init__\n",
      "    self.dist = self._prepare()\n",
      "  File \"D:\\X-S01\\conda3\\envs\\lab\\lib\\site-packages\\pip\\_internal\\resolution\\resolvelib\\candidates.py\", line 231, in _prepare\n",
      "    dist = self._prepare_distribution()\n",
      "  File \"D:\\X-S01\\conda3\\envs\\lab\\lib\\site-packages\\pip\\_internal\\resolution\\resolvelib\\candidates.py\", line 308, in _prepare_distribution\n",
      "    return preparer.prepare_linked_requirement(self._ireq, parallel_builds=True)\n",
      "  File \"D:\\X-S01\\conda3\\envs\\lab\\lib\\site-packages\\pip\\_internal\\operations\\prepare.py\", line 491, in prepare_linked_requirement\n",
      "    return self._prepare_linked_requirement(req, parallel_builds)\n",
      "  File \"D:\\X-S01\\conda3\\envs\\lab\\lib\\site-packages\\pip\\_internal\\operations\\prepare.py\", line 577, in _prepare_linked_requirement\n",
      "    dist = _get_prepared_distribution(\n",
      "  File \"D:\\X-S01\\conda3\\envs\\lab\\lib\\site-packages\\pip\\_internal\\operations\\prepare.py\", line 69, in _get_prepared_distribution\n",
      "    abstract_dist.prepare_distribution_metadata(\n",
      "  File \"D:\\X-S01\\conda3\\envs\\lab\\lib\\site-packages\\pip\\_internal\\distributions\\sdist.py\", line 61, in prepare_distribution_metadata\n",
      "    self.req.prepare_metadata()\n",
      "  File \"D:\\X-S01\\conda3\\envs\\lab\\lib\\site-packages\\pip\\_internal\\req\\req_install.py\", line 545, in prepare_metadata\n",
      "    self.metadata_directory = generate_metadata_legacy(\n",
      "  File \"D:\\X-S01\\conda3\\envs\\lab\\lib\\site-packages\\pip\\_internal\\operations\\build\\metadata_legacy.py\", line 71, in generate_metadata\n",
      "    raise MetadataGenerationFailed(package_details=details) from error\n",
      "pip._internal.exceptions.MetadataGenerationFailed: metadata generation failed\n"
     ]
    }
   ],
   "source": [
    "# 生成 windows AMD64平台的依赖清单\n",
    "# win.requirements.in 不是UTF-8编码，因此需要使用VSCode打开\n",
    "!python -m piptools compile --quiet --upgrade --resolver=backtracking win.requirements.in --output-file win.requirements.txt"
   ]
  },
  {
   "cell_type": "code",
   "execution_count": 3,
   "id": "76c76381-8943-4c8f-b787-372ddf6543b1",
   "metadata": {
    "tags": []
   },
   "outputs": [
    {
     "name": "stdout",
     "output_type": "stream",
     "text": [
      "Everything up-to-date\n"
     ]
    }
   ],
   "source": [
    "!pip-sync win.requirements.txt --pip-args \"--quiet --retries 10 --timeout 30\""
   ]
  },
  {
   "cell_type": "markdown",
   "id": "2de8b9b3-ef22-4813-8f8e-5d75e9f9e031",
   "metadata": {},
   "source": [
    "<h1>初始化工作</h1>"
   ]
  },
  {
   "cell_type": "code",
   "execution_count": null,
   "id": "6c9bf879-abad-48b0-ae16-5fab7ae5cf23",
   "metadata": {},
   "outputs": [],
   "source": [
    "# REF https://nbdime.readthedocs.io/en/latest/\n",
    "# 激活差异对比工具\n",
    "!nbdime config-git --enable --global"
   ]
  }
 ],
 "metadata": {
  "kernelspec": {
   "display_name": "Python 3 (ipykernel)",
   "language": "python",
   "name": "python3"
  },
  "language_info": {
   "codemirror_mode": {
    "name": "ipython",
    "version": 3
   },
   "file_extension": ".py",
   "mimetype": "text/x-python",
   "name": "python",
   "nbconvert_exporter": "python",
   "pygments_lexer": "ipython3",
   "version": "3.10.9"
  },
  "widgets": {
   "application/vnd.jupyter.widget-state+json": {
    "state": {},
    "version_major": 2,
    "version_minor": 0
   }
  }
 },
 "nbformat": 4,
 "nbformat_minor": 5
}
