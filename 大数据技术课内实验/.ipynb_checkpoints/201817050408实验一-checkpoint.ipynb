{
 "cells": [
  {
   "cell_type": "markdown",
   "id": "002c3550-f9c4-4918-8ef6-3c83474ecbbd",
   "metadata": {},
   "source": [
    "## （1）编程：求1～100间所有偶数的和。"
   ]
  },
  {
   "cell_type": "code",
   "execution_count": null,
   "id": "8eff0b43-336e-4770-9dc9-3dd423df4753",
   "metadata": {},
   "outputs": [],
   "source": []
  },
  {
   "cell_type": "markdown",
   "id": "b06db172-0111-41c9-95a1-fa2ab1af0651",
   "metadata": {},
   "source": [
    "## （2）编程：假设一年期定期利率为3.25%，计算一下需要过多少年，一万元的一年定期存款连本带息能翻番？"
   ]
  },
  {
   "cell_type": "code",
   "execution_count": null,
   "id": "bbca852b-e2c4-40ac-982f-092029324a64",
   "metadata": {},
   "outputs": [],
   "source": []
  },
  {
   "cell_type": "markdown",
   "id": "7edabcd6-9662-42f1-b83c-db8e479e45c1",
   "metadata": {},
   "source": [
    "## （3）编程：一个数如果恰好等于它的因子之和，这个数就称为“完数”。例如，6的因子为1、2、3，而6=1+2+3，因此6是完数。编程，找出1000之内的所有完数，并输出该完数及对应的因子。"
   ]
  },
  {
   "cell_type": "code",
   "execution_count": null,
   "id": "e8bfec76-15cb-4556-8371-05bcd080c710",
   "metadata": {},
   "outputs": [],
   "source": []
  },
  {
   "cell_type": "markdown",
   "id": "82a2f35f-21da-4ccc-9bf1-53d14b4e6c4c",
   "metadata": {},
   "source": [
    "## （4）编程：写一判素数的函数，在主函数中输入一个整数，调用该函数进行判断并输出结果。"
   ]
  },
  {
   "cell_type": "code",
   "execution_count": null,
   "id": "11f86948-0468-47c5-844e-be35e336d769",
   "metadata": {},
   "outputs": [],
   "source": []
  },
  {
   "cell_type": "markdown",
   "id": "4d1c9be1-40be-4630-8756-113e175bd731",
   "metadata": {},
   "source": [
    "## （5）编程：有列表li＝['alex', 'eric', 'rain']，按照要求实现每一个功能：\n",
    "a.计算列表长度并输出；\n",
    "\n",
    "b.列表中追加元素“seven”，并输出添加后的列表；\n",
    "\n",
    "c.请在列表的第1个位置插入元素“Tony”，并输出添加后的列表；\n",
    "\n",
    "d.请修改列表第2个位置的元素为“Kelly”，并输出修改后的列表；\n",
    "\n",
    "e.请删除列表中的元素“eric” ，并输出修改后的列表。"
   ]
  },
  {
   "cell_type": "code",
   "execution_count": null,
   "id": "7da79b1f-ebe3-4ab3-87d8-bece3723da4c",
   "metadata": {},
   "outputs": [],
   "source": []
  },
  {
   "cell_type": "markdown",
   "id": "100fc85e-5af8-4666-a9b4-decc02866f72",
   "metadata": {},
   "source": [
    "## （6）编程：有元组tu ＝ ('alex', 'eric', 'rain')，按照要求实现每一个功能：\n",
    "a. 计算元组长度并输出；\n",
    "\n",
    "b. 获取元组的第2个元素，并输出；\n",
    "\n",
    "c. 获取元组的第1-2个元素，并输出；\n",
    "\n",
    "d. 请使用for输出元组的元素；\n",
    "\n",
    "e. 请使用for、len、range输出元组的索引；\n",
    "\n",
    "f. 请使用 enumrate 输出元祖元素和序号（序号从 10 开始）。"
   ]
  },
  {
   "cell_type": "code",
   "execution_count": null,
   "id": "d40beac9-5dcc-4836-bde2-1b49432e1027",
   "metadata": {},
   "outputs": [],
   "source": []
  },
  {
   "cell_type": "code",
   "execution_count": null,
   "id": "4f4ed60f-1546-4387-b7d7-d0f6e2e85efe",
   "metadata": {},
   "outputs": [],
   "source": []
  },
  {
   "cell_type": "markdown",
   "id": "64509fdc-084d-464c-83cf-200a193c5b36",
   "metadata": {},
   "source": [
    "## （7）编程：字典dic = {'k1': \"v1\", \"k2\": \"v2\", \"k3\": [11,22,33]}：\n",
    "a. 请循环输出所有的 key；\n",
    "\n",
    "b. 请循环输出所有的 value；\n",
    "\n",
    "c. 请循环输出所有的 key 和 value；\n",
    "\n",
    "d. 请在字典中添加一个键值对，\"k4\": \"v4\"，输出添加后的字典；\n",
    "\n",
    "e. 请在修改字典中“k1”对应的值为“alex”，输出修改后的字典；\n",
    "\n",
    "f. 请在 k3 对应的值中追加一个元素 44，输出修改后的字典；\n",
    "\n",
    "g. 请在 k3 对应的值的第 1 个位置插入个元素 18，输出修改后的字典。"
   ]
  },
  {
   "cell_type": "code",
   "execution_count": null,
   "id": "fecdf2e1-a1ae-4812-8614-496a9a6e561e",
   "metadata": {},
   "outputs": [],
   "source": []
  },
  {
   "cell_type": "markdown",
   "id": "b2e6ce82-52e5-45d6-9b8c-9b3a4fe9cfd3",
   "metadata": {},
   "source": [
    "## （8）编程：根据下文，使用集合生成单词表（不重复），并存为文本文件。\n",
    "Last week I went to the theatre, I had a very good seat. The play was very interesting. I did not enjoy it. A young man and a young woman were sitting behind me. They were talking loudly. I got very angry. I could not hear the actors. I turned round. I looked at the man and the woman angrily. They did not pay any attention. In the end, I could not bear it. I turned round again.̒ I can’t hear a word!’ I said angrily.̒ It’s none of your business,’ the young man said rudely.̒ This is a private conversation!’"
   ]
  },
  {
   "cell_type": "code",
   "execution_count": null,
   "id": "2a7be7f1-d482-431d-a360-579cd3a9d932",
   "metadata": {},
   "outputs": [],
   "source": []
  },
  {
   "cell_type": "markdown",
   "id": "8a9ffc08-3501-427a-9c73-32250c576984",
   "metadata": {},
   "source": [
    "## （9）编程：创建员工类Employee，属性有姓名name、能力值ability、年龄age（能力值为100-年龄），方法有doWork()，该方法执行一次，该员工的能力值减5，创建str()方法，打印该员工的信息。"
   ]
  },
  {
   "cell_type": "code",
   "execution_count": null,
   "id": "aa7538dd-9f59-499e-822c-11e0ad03dd57",
   "metadata": {},
   "outputs": [],
   "source": []
  },
  {
   "cell_type": "markdown",
   "id": "659cea1a-07ac-4252-bcb1-f8e116d8b9fe",
   "metadata": {},
   "source": [
    "## （10）打印所有的“水仙花数”，“水仙花数”是指一个三位数，其各位数字立方和等于该数本身，例如153是一个“水仙花数”，153=1^3+5^3+3^3。"
   ]
  },
  {
   "cell_type": "code",
   "execution_count": null,
   "id": "bfbb15c9-49ea-4254-b4e3-3332cb81502e",
   "metadata": {},
   "outputs": [],
   "source": []
  },
  {
   "cell_type": "markdown",
   "id": "e4113e71-eb69-4dd6-9b41-0dd59ab8c4e8",
   "metadata": {},
   "source": [
    "## （11）验证角谷猜想：任意给一个自然数，若为偶数除以2，若为奇数则乘3加1，得到一个新的自然数然后按照上面的法则继续计算，若干次后得到的结果必然为1。要求，读入一个自然数，输出计算步骤。"
   ]
  },
  {
   "cell_type": "code",
   "execution_count": null,
   "id": "3d9b1894-3259-4be4-938f-08cbb6d21057",
   "metadata": {},
   "outputs": [],
   "source": []
  },
  {
   "cell_type": "markdown",
   "id": "60a061af-502f-4339-9be8-96d02a65783a",
   "metadata": {},
   "source": [
    "## （12）设计BMI类，用于计算身体质量指数，属性有姓名name，年龄age，身高Height，体重Weight。方法getBMI用于获取BMI指数（该指数等于体重（kg)除以身高(米)的平方）。方法getStatus用于获取身体状态， BMI指数<18.5为超轻， 18.5≤BMI指数 ＜25为标准，25 ≤ BMI指数＜30为超重， BMI指数≥30为超胖。以自己的身高体重实例化。"
   ]
  },
  {
   "cell_type": "code",
   "execution_count": null,
   "id": "75b1363b-d6cc-4f34-89ce-513611e08efc",
   "metadata": {},
   "outputs": [],
   "source": []
  }
 ],
 "metadata": {
  "kernelspec": {
   "display_name": "Python 3 (ipykernel)",
   "language": "python",
   "name": "python3"
  },
  "language_info": {
   "codemirror_mode": {
    "name": "ipython",
    "version": 3
   },
   "file_extension": ".py",
   "mimetype": "text/x-python",
   "name": "python",
   "nbconvert_exporter": "python",
   "pygments_lexer": "ipython3",
   "version": "3.9.16"
  },
  "toc-showtags": false
 },
 "nbformat": 4,
 "nbformat_minor": 5
}
