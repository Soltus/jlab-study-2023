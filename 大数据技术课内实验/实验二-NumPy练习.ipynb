{
 "cells": [
  {
   "cell_type": "markdown",
   "id": "94194b63-5e31-4802-aabc-5a76927318a1",
   "metadata": {},
   "source": [
    "<h2 class=\"MsoNormal\"><span class=\"15\" style=\"font-family: 'Times New Roman'; font-size: 12pt;\"><span style=\"font-family: 宋体;\">用单纯形法求解以下线性规划问题：</span></span></h2>\n",
    "<p><span class=\"15\" style=\"font-family: 'Times New Roman'; font-size: 12pt;\"><img src=\"data:image/png;base64,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\" alt=\"\" /></span></p>"
   ]
  },
  {
   "cell_type": "code",
   "execution_count": null,
   "id": "2b436468-2656-416a-8b38-8ed82c6c2068",
   "metadata": {},
   "outputs": [],
   "source": []
  },
  {
   "cell_type": "markdown",
   "id": "194de5c5-fc0c-4c19-96e2-207f9ed4a085",
   "metadata": {},
   "source": [
    "<h2 class=\"MsoNormal\"><span class=\"15\" style=\"font-family: 'Times New Roman'; font-size: 12pt;\"><span style=\"font-family: 宋体;\">求下列矩阵的逆矩阵</span></span></h2>\n",
    "<p><span class=\"15\" style=\"font-family: 'Times New Roman'; font-size: 12pt;\"><img src=\"data:image/png;base64,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\" alt=\"\" /></span></p>\n",
    "<p>&nbsp;</p>"
   ]
  },
  {
   "cell_type": "code",
   "execution_count": null,
   "id": "26cc9242-45fe-4c60-a926-a1717a02a087",
   "metadata": {},
   "outputs": [],
   "source": []
  },
  {
   "cell_type": "markdown",
   "id": "80629ad9-3c46-4f2d-94e0-1f5d1265a60e",
   "metadata": {},
   "source": [
    "<h2 class=\"MsoNormal\"><span class=\"15\" style=\"font-family: 'Times New Roman'; font-size: 12pt;\"><span style=\"font-family: 宋体;\">使用</span>Numpy<span style=\"font-family: 宋体;\">数组对象，创建两个</span><span style=\"font-family: Times New Roman;\">3*3</span><span style=\"font-family: 宋体;\">的矩阵（随机数创建），并计算矩阵乘积</span></span></h2>"
   ]
  },
  {
   "cell_type": "code",
   "execution_count": null,
   "id": "2229319a-a790-4ed3-ac4c-b0abc74968fd",
   "metadata": {},
   "outputs": [],
   "source": []
  },
  {
   "cell_type": "markdown",
   "id": "aee2d9c9-9103-43a3-b2b7-8f9f376d3235",
   "metadata": {},
   "source": [
    "<p class=\"MsoNormal\"><span class=\"15\" style=\"font-family: 'Times New Roman'; font-size: 12pt;\"><span style=\"font-family: 宋体;\">计算</span>1+1/3+1/5+1/7+&hellip;.+1/99<span style=\"font-family: 宋体;\">的和</span></span></p>"
   ]
  },
  {
   "cell_type": "code",
   "execution_count": null,
   "id": "64c76ce7-3a35-48c9-91ba-5deab748bf3f",
   "metadata": {},
   "outputs": [],
   "source": []
  }
 ],
 "metadata": {
  "kernelspec": {
   "display_name": "Python 3 (ipykernel)",
   "language": "python",
   "name": "python3"
  },
  "language_info": {
   "codemirror_mode": {
    "name": "ipython",
    "version": 3
   },
   "file_extension": ".py",
   "mimetype": "text/x-python",
   "name": "python",
   "nbconvert_exporter": "python",
   "pygments_lexer": "ipython3",
   "version": "3.9.16"
  },
  "widgets": {
   "application/vnd.jupyter.widget-state+json": {
    "state": {},
    "version_major": 2,
    "version_minor": 0
   }
  }
 },
 "nbformat": 4,
 "nbformat_minor": 5
}
