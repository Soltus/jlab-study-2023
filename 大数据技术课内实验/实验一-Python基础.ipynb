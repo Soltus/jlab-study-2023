{
 "cells": [
  {
   "cell_type": "markdown",
   "id": "002c3550-f9c4-4918-8ef6-3c83474ecbbd",
   "metadata": {
    "tags": []
   },
   "source": [
    "<h1 id=\"（1）编程：求1～100间所有偶数的和。\"><span style=\"color: #b96ad9;\">求1～100间所有偶数的和。</span></h1>"
   ]
  },
  {
   "cell_type": "code",
   "execution_count": 14,
   "id": "8eff0b43-336e-4770-9dc9-3dd423df4753",
   "metadata": {
    "slideshow": {
     "slide_type": "slide"
    },
    "tags": [
     "简单"
    ]
   },
   "outputs": [
    {
     "name": "stdout",
     "output_type": "stream",
     "text": [
      "100内所有偶数的和为： 2550\n"
     ]
    }
   ],
   "source": [
    "# 初始化变量\n",
    "nsum = 0\n",
    "\n",
    "# 使用for循环遍历100内的所有数字\n",
    "for num in range(1, 101):\n",
    "    # 判断数字是否为偶数\n",
    "    if num % 2 == 0:\n",
    "        # 如果是偶数，则将其加入和中\n",
    "        nsum += num\n",
    "\n",
    "# 输出结果\n",
    "print(\"100内所有偶数的和为：\", nsum)"
   ]
  },
  {
   "cell_type": "markdown",
   "id": "b06db172-0111-41c9-95a1-fa2ab1af0651",
   "metadata": {},
   "source": [
    "<h1 id=\"（2）编程：假设一年期定期利率为3.25%，计算一下需要过多少年，一万元的一年定期存款连本带息能翻番？\"><span style=\"color: #b96ad9;\">假设一年期定期利率为3.25%，计算一下需要过多少年，一万元的一年定期存款连本带息能翻番？</span></h1>"
   ]
  },
  {
   "cell_type": "code",
   "execution_count": 3,
   "id": "bbca852b-e2c4-40ac-982f-092029324a64",
   "metadata": {},
   "outputs": [
    {
     "name": "stdout",
     "output_type": "stream",
     "text": [
      "需要过 22 年，一万元的一年定期存款才能翻一倍\n"
     ]
    }
   ],
   "source": [
    "principal = 10000  # 存款本金\n",
    "interest_rate = 0.0325  # 年利率\n",
    "target_amount = principal * 2  # 翻倍后的目标金额\n",
    "\n",
    "years = 0\n",
    "while principal < target_amount:\n",
    "    principal *= (1 + interest_rate)\n",
    "    years += 1\n",
    "\n",
    "print(\"需要过\", years, \"年，一万元的一年定期存款才能翻一倍\")"
   ]
  },
  {
   "cell_type": "markdown",
   "id": "7edabcd6-9662-42f1-b83c-db8e479e45c1",
   "metadata": {},
   "source": [
    "<h1 id=\"（3）编程：一个数如果恰好等于它的因子之和，这个数就称为&ldquo;完数&rdquo;。例如，6的因子为1、2、3，而6=1+2+3，因此6是完数。编程，找出1000之内的所有完数，并输出该完数及对应的因子。\"><span style=\"color: #b96ad9;\">一个数如果恰好等于它的因子之和，这个数就称为&ldquo;完数&rdquo;。例如，6的因子为1、2、3，而6=1+2+3，因此6是完数。编程，找出1000之内的所有完数，并输出该完数及对应的因子。</span></h1>"
   ]
  },
  {
   "cell_type": "code",
   "execution_count": 18,
   "id": "e8bfec76-15cb-4556-8371-05bcd080c710",
   "metadata": {},
   "outputs": [
    {
     "name": "stdout",
     "output_type": "stream",
     "text": [
      "6 is a perfect number and its factors are [0, 1, 2, 3]\n",
      "28 is a perfect number and its factors are [0, 1, 2, 4, 7, 14]\n",
      "496 is a perfect number and its factors are [0, 1, 2, 4, 8, 16, 31, 62, 124, 248]\n"
     ]
    }
   ],
   "source": [
    "# 如果存在同名变量，需要先前置执行 del sum （不能一起执行）\n",
    "for num in range(2, 1001):\n",
    "    factors = [0]\n",
    "    for i in range(1, num):\n",
    "        if num % i == 0:\n",
    "            factors.append(i)\n",
    "    if sum(factors) == num:\n",
    "        print(f\"{num} is a perfect number and its factors are {factors}\")"
   ]
  },
  {
   "cell_type": "markdown",
   "id": "82a2f35f-21da-4ccc-9bf1-53d14b4e6c4c",
   "metadata": {},
   "source": [
    "<h1 id=\"（4）编程：写一判素数的函数，在主函数中输入一个整数，调用该函数进行判断并输出结果。\"><span style=\"color: #b96ad9;\">写一判素数的函数，在主函数中输入一个整数，调用该函数进行判断并输出结果。</span></h1>"
   ]
  },
  {
   "cell_type": "code",
   "execution_count": 21,
   "id": "11f86948-0468-47c5-844e-be35e336d769",
   "metadata": {},
   "outputs": [
    {
     "name": "stdin",
     "output_type": "stream",
     "text": [
      "请输入一个整数： 31\n"
     ]
    },
    {
     "name": "stdout",
     "output_type": "stream",
     "text": [
      "31是素数\n"
     ]
    }
   ],
   "source": [
    "def is_prime(n):\n",
    "    \"\"\"\n",
    "    判断一个数是否为素数\n",
    "    \"\"\"\n",
    "    if n < 2:\n",
    "        return False\n",
    "    for i in range(2, int(n ** 0.5) + 1):\n",
    "        if n % i == 0:\n",
    "            return False\n",
    "    return True\n",
    "\n",
    "\n",
    "num = int(input('请输入一个整数：'))\n",
    "if is_prime(num):\n",
    "  print(f'{num}是素数')\n",
    "else:\n",
    "  print(f'{num}不是素数')"
   ]
  },
  {
   "cell_type": "markdown",
   "id": "4d1c9be1-40be-4630-8756-113e175bd731",
   "metadata": {},
   "source": [
    "<h1 id=\"（5）编程：有列表li＝['alex',-'eric',-'rain']，按照要求实现每一个功能：\"><span style=\"color: #b96ad9;\">有列表<code>li＝['alex', 'eric', 'rain']</code>，按照要求实现每一个功能：</span></h1>\n",
    "<p>a.计算列表长度并输出；</p>\n",
    "<p>b.列表中追加元素&ldquo;seven&rdquo;，并输出添加后的列表；</p>\n",
    "<p>c.请在列表的第1个位置插入元素&ldquo;Tony&rdquo;，并输出添加后的列表；</p>\n",
    "<p>d.请修改列表第2个位置的元素为&ldquo;Kelly&rdquo;，并输出修改后的列表；</p>\n",
    "<p>e.请删除列表中的元素&ldquo;eric&rdquo; ，并输出修改后的列表。</p>"
   ]
  },
  {
   "cell_type": "code",
   "execution_count": 22,
   "id": "7da79b1f-ebe3-4ab3-87d8-bece3723da4c",
   "metadata": {},
   "outputs": [
    {
     "name": "stdout",
     "output_type": "stream",
     "text": [
      "3\n",
      "['alex', 'eric', 'rain', 'seven']\n",
      "['Tony', 'alex', 'eric', 'rain', 'seven']\n",
      "['Tony', 'Kelly', 'eric', 'rain', 'seven']\n",
      "['Tony', 'Kelly', 'rain', 'seven']\n"
     ]
    }
   ],
   "source": [
    "li = ['alex', 'eric', 'rain']\n",
    "\n",
    "# a.计算列表长度并输出\n",
    "print(len(li))\n",
    "\n",
    "# b.列表中追加元素“seven”，并输出添加后的列表\n",
    "li.append('seven')\n",
    "print(li)\n",
    "\n",
    "# c.请在列表的第1个位置插入元素“Tony”，并输出添加后的列表\n",
    "li.insert(0, 'Tony')\n",
    "print(li)\n",
    "\n",
    "# d.请修改列表第2个位置的元素为“Kelly”，并输出修改后的列表\n",
    "li[1] = 'Kelly'\n",
    "print(li)\n",
    "\n",
    "# e.请删除列表中的元素“eric” ，并输出修改后的列表\n",
    "li.remove('eric')\n",
    "print(li)"
   ]
  },
  {
   "cell_type": "markdown",
   "id": "100fc85e-5af8-4666-a9b4-decc02866f72",
   "metadata": {},
   "source": [
    "<h1 id=\"（6）编程：有元组tu-＝-('alex',-'eric',-'rain')，按照要求实现每一个功能：\"><span style=\"color: #b96ad9;\">有元组<code>tu ＝ ('alex', 'eric', 'rain')</code>，按照要求实现每一个功能：</span></h1>\n",
    "<p>a. 计算元组长度并输出；</p>\n",
    "<p>b. 获取元组的第2个元素，并输出；</p>\n",
    "<p>c. 获取元组的第1-2个元素，并输出；</p>\n",
    "<p>d. 请使用for输出元组的元素；</p>\n",
    "<p>e. 请使用for、len、range输出元组的索引；</p>\n",
    "<p>f. 请使用 enumrate 输出元祖元素和序号（序号从 10 开始）。</p>"
   ]
  },
  {
   "cell_type": "code",
   "execution_count": 23,
   "id": "d40beac9-5dcc-4836-bde2-1b49432e1027",
   "metadata": {},
   "outputs": [
    {
     "name": "stdout",
     "output_type": "stream",
     "text": [
      "3\n"
     ]
    }
   ],
   "source": [
    "tu = ('alex', 'eric', 'rain')\n",
    "print(len(tu))  # 输出：3"
   ]
  },
  {
   "cell_type": "code",
   "execution_count": 24,
   "id": "083798e4-38ab-41ec-b403-776b4bc6abe3",
   "metadata": {
    "tags": []
   },
   "outputs": [
    {
     "name": "stdout",
     "output_type": "stream",
     "text": [
      "eric\n"
     ]
    }
   ],
   "source": [
    "tu = ('alex', 'eric', 'rain')\n",
    "print(tu[1])  # 输出：eric"
   ]
  },
  {
   "cell_type": "code",
   "execution_count": 25,
   "id": "4c2a7ce6-291a-4551-9688-a36bf6fb26a5",
   "metadata": {
    "tags": []
   },
   "outputs": [
    {
     "name": "stdout",
     "output_type": "stream",
     "text": [
      "('alex', 'eric')\n"
     ]
    }
   ],
   "source": [
    "tu = ('alex', 'eric', 'rain')\n",
    "print(tu[0:2])  # 输出：('alex', 'eric')"
   ]
  },
  {
   "cell_type": "code",
   "execution_count": 26,
   "id": "a6d1449e-980a-436b-8512-bfe68d810c2b",
   "metadata": {
    "tags": []
   },
   "outputs": [
    {
     "name": "stdout",
     "output_type": "stream",
     "text": [
      "alex\n",
      "eric\n",
      "rain\n"
     ]
    }
   ],
   "source": [
    "tu = ('alex', 'eric', 'rain')\n",
    "for i in tu:\n",
    "    print(i)\n",
    "# 输出：\n",
    "# alex\n",
    "# eric\n",
    "# rain"
   ]
  },
  {
   "cell_type": "code",
   "execution_count": 27,
   "id": "774d6329-10b4-4804-8eb4-1b479ddc4bcc",
   "metadata": {
    "tags": []
   },
   "outputs": [
    {
     "name": "stdout",
     "output_type": "stream",
     "text": [
      "0\n",
      "1\n",
      "2\n"
     ]
    }
   ],
   "source": [
    "tu = ('alex', 'eric', 'rain')\n",
    "for i in range(len(tu)):\n",
    "    print(i)\n",
    "# 输出：\n",
    "# 0\n",
    "# 1\n",
    "# 2"
   ]
  },
  {
   "cell_type": "code",
   "execution_count": 28,
   "id": "4f4ed60f-1546-4387-b7d7-d0f6e2e85efe",
   "metadata": {},
   "outputs": [
    {
     "name": "stdout",
     "output_type": "stream",
     "text": [
      "10 alex\n",
      "11 eric\n",
      "12 rain\n"
     ]
    }
   ],
   "source": [
    "tu = ('alex', 'eric', 'rain')\n",
    "for i, value in enumerate(tu, 10):\n",
    "    print(i, value)\n",
    "# 输出：\n",
    "# 10 alex\n",
    "# 11 eric\n",
    "# 12 rain"
   ]
  },
  {
   "cell_type": "markdown",
   "id": "64509fdc-084d-464c-83cf-200a193c5b36",
   "metadata": {},
   "source": [
    "<h1 id=\"（7）编程：字典dic-=-{'k1':-&quot;v1&quot;,-&quot;k2&quot;:-&quot;v2&quot;,-&quot;k3&quot;:-[11,22,33]}：\"><span style=\"color: #b96ad9;\">字典<code>dic = {'k1': \"v1\", \"k2\": \"v2\", \"k3\": [11,22,33]}</code>：</span></h1>\n",
    "<p>a. 请循环输出所有的 key；</p>\n",
    "<p>b. 请循环输出所有的 value；</p>\n",
    "<p>c. 请循环输出所有的 key 和 value；</p>\n",
    "<p>d. 请在字典中添加一个键值对，\"k4\": \"v4\"，输出添加后的字典；</p>\n",
    "<p>e. 请在修改字典中&ldquo;k1&rdquo;对应的值为&ldquo;alex&rdquo;，输出修改后的字典；</p>\n",
    "<p>f. 请在 k3 对应的值中追加一个元素 44，输出修改后的字典；</p>\n",
    "<p>g. 请在 k3 对应的值的第 1 个位置插入个元素 18，输出修改后的字典。</p>"
   ]
  },
  {
   "cell_type": "code",
   "execution_count": 37,
   "id": "b2018749-3089-4f1d-af83-d2fdf3a98c26",
   "metadata": {
    "tags": []
   },
   "outputs": [
    {
     "name": "stdout",
     "output_type": "stream",
     "text": [
      "{'k1': 'v1', 'k2': 'v2', 'k3': [11, 22, 33]}\n"
     ]
    }
   ],
   "source": [
    "dic = {'k1': \"v1\", \"k2\": \"v2\", \"k3\": [11,22,33]}\n",
    "print(dic)"
   ]
  },
  {
   "cell_type": "code",
   "execution_count": 39,
   "id": "fecdf2e1-a1ae-4812-8614-496a9a6e561e",
   "metadata": {},
   "outputs": [
    {
     "name": "stdout",
     "output_type": "stream",
     "text": [
      "k1\n",
      "k2\n",
      "k3\n"
     ]
    }
   ],
   "source": [
    "#dic = {'k1': \"v1\", \"k2\": \"v2\", \"k3\": [11,22,33]}\n",
    "\n",
    "for key in dic:\n",
    "    print(key)\n"
   ]
  },
  {
   "cell_type": "code",
   "execution_count": 40,
   "id": "17ca4df9-8e28-46a8-a822-576ab035175d",
   "metadata": {
    "tags": []
   },
   "outputs": [
    {
     "name": "stdout",
     "output_type": "stream",
     "text": [
      "v1\n",
      "v2\n",
      "[11, 22, 33]\n"
     ]
    }
   ],
   "source": [
    "#dic = {'k1': \"v1\", \"k2\": \"v2\", \"k3\": [11,22,33]}\n",
    "\n",
    "for value in dic.values():\n",
    "    print(value)"
   ]
  },
  {
   "cell_type": "code",
   "execution_count": 41,
   "id": "a49df06a-bf30-4990-8828-ddde096e27b0",
   "metadata": {
    "tags": []
   },
   "outputs": [
    {
     "name": "stdout",
     "output_type": "stream",
     "text": [
      "k1 v1\n",
      "k2 v2\n",
      "k3 [11, 22, 33]\n"
     ]
    }
   ],
   "source": [
    "#dic = {'k1': \"v1\", \"k2\": \"v2\", \"k3\": [11,22,33]}\n",
    "\n",
    "for key, value in dic.items():\n",
    "    print(key, value)"
   ]
  },
  {
   "cell_type": "code",
   "execution_count": 42,
   "id": "3474d703-f9a0-4133-9a7e-deaf10a31316",
   "metadata": {
    "tags": []
   },
   "outputs": [
    {
     "name": "stdout",
     "output_type": "stream",
     "text": [
      "{'k1': 'v1', 'k2': 'v2', 'k3': [11, 22, 33], 'k4': 'v4'}\n"
     ]
    }
   ],
   "source": [
    "#dic = {'k1': \"v1\", \"k2\": \"v2\", \"k3\": [11,22,33]}\n",
    "dic[\"k4\"] = \"v4\"\n",
    "print(dic)"
   ]
  },
  {
   "cell_type": "code",
   "execution_count": 43,
   "id": "0ab3b0b6-2b07-4546-8166-28f01a5b5f7b",
   "metadata": {
    "tags": []
   },
   "outputs": [
    {
     "name": "stdout",
     "output_type": "stream",
     "text": [
      "{'k1': 'alex', 'k2': 'v2', 'k3': [11, 22, 33], 'k4': 'v4'}\n"
     ]
    }
   ],
   "source": [
    "#dic = {'k1': \"v1\", \"k2\": \"v2\", \"k3\": [11,22,33]}\n",
    "dic[\"k1\"] = \"alex\"\n",
    "print(dic)"
   ]
  },
  {
   "cell_type": "code",
   "execution_count": 44,
   "id": "4aa7e6e7-7f6b-47f5-8f2d-0180c0faedea",
   "metadata": {
    "tags": []
   },
   "outputs": [
    {
     "name": "stdout",
     "output_type": "stream",
     "text": [
      "{'k1': 'alex', 'k2': 'v2', 'k3': [11, 22, 33, 44], 'k4': 'v4'}\n"
     ]
    }
   ],
   "source": [
    "#dic = {'k1': \"v1\", \"k2\": \"v2\", \"k3\": [11,22,33]}\n",
    "dic[\"k3\"].append(44)\n",
    "print(dic)"
   ]
  },
  {
   "cell_type": "code",
   "execution_count": 45,
   "id": "92408117-944f-4f92-8d9c-0395a2de14cc",
   "metadata": {
    "tags": []
   },
   "outputs": [
    {
     "name": "stdout",
     "output_type": "stream",
     "text": [
      "{'k1': 'alex', 'k2': 'v2', 'k3': [18, 11, 22, 33, 44], 'k4': 'v4'}\n"
     ]
    }
   ],
   "source": [
    "#dic = {'k1': \"v1\", \"k2\": \"v2\", \"k3\": [11,22,33]}\n",
    "dic[\"k3\"].insert(0, 18)\n",
    "print(dic)"
   ]
  },
  {
   "cell_type": "markdown",
   "id": "b2e6ce82-52e5-45d6-9b8c-9b3a4fe9cfd3",
   "metadata": {},
   "source": [
    "<h1 id=\"（8）编程：根据下文，使用集合生成单词表（不重复），并存为文本文件。\"><span style=\"color: #b96ad9;\">根据下文，使用集合生成单词表（不重复），并存为文本文件。</span></h1>\n",
    "<p><span style=\"color: #f1c40f;\"><em>Last week I went to the theatre, I had a very good seat. The play was very interesting. I did not enjoy it. A young man and a young woman were sitting behind me. They were talking loudly. I got very angry. I could not hear the actors. I turned round. I looked at the man and the woman angrily. They did not pay any attention. In the end, I could not bear it. I turned round again.̒ I can&rsquo;t hear a word!&rsquo; I said angrily.̒ It&rsquo;s none of your business,&rsquo; the young man said rudely.̒ This is a private conversation!&rsquo;</em></span></p>"
   ]
  },
  {
   "cell_type": "code",
   "execution_count": 63,
   "id": "2a7be7f1-d482-431d-a360-579cd3a9d932",
   "metadata": {},
   "outputs": [
    {
     "name": "stdout",
     "output_type": "stream",
     "text": [
      "510\n"
     ]
    }
   ],
   "source": [
    "rawContents = '''Last week I went to the theatre, I had a very good seat. The play was very interesting. I did not enjoy it. A young man and a young woman were sitting behind me. They were talking loudly. I got very angry. I could not hear the actors. I turned round. I looked at the man and the woman angrily. They did not pay any attention. In the end, I could not bear it. I turned round again.̒ I can’t hear a word!’ I said angrily.̒ It’s none of your business,’ the young man said rudely.̒ This is a private conversation!’'''\n",
    "print(len(rawContents))"
   ]
  },
  {
   "cell_type": "code",
   "execution_count": 75,
   "id": "930bcedb-913e-45af-a9c9-a75a9a79beb5",
   "metadata": {
    "tags": []
   },
   "outputs": [
    {
     "name": "stdout",
     "output_type": "stream",
     "text": [
      "{'in', 'had', 'said', 'it', 'young', 'to', 'is', 'enjoy', 'at', 'looked', 'were', 'end', 'good', 'they', 'the', 'play', 'not', 'turned', 'bear', 'woman', 'word’', 'conversation’', 'sitting', 'private', 'attention', 'angrily̒', 'of', 'could', 'angry', 'very', 'this', 'any', 'and', 'rudely̒', 'can’t', 'got', 'week', 'went', 'interesting', 'behind', 'it’s', 'did', 'loudly', 'hear', 'i', 'theatre', 'round', 'none', 'talking', 'angrily', 'a', 'man', 'pay', 'again̒', 'was', 'last', 'business’', 'me', 'seat', 'actors', 'your'}\n"
     ]
    }
   ],
   "source": [
    "import re\n",
    "\n",
    "# 将文本转换为小写，以便在比较时忽略大小写\n",
    "text = rawContents.lower()\n",
    "\n",
    "# 去除多余字符\n",
    "text = re.sub(r\"\\?|!|\\.|,\", \"\", text)\n",
    "\n",
    "\n",
    "# 将文本拆分为单词\n",
    "words = text.split()\n",
    "\n",
    "# 创建一个不重复的集合\n",
    "unique_words = set(words)\n",
    "print(unique_words)\n",
    "\n",
    "# 将集合写入文件\n",
    "with open(\"E1T1--unique_words.txt\", \"w\", encoding=\"utf-8\") as file:\n",
    "    file.write(\"\\n\".join(unique_words))"
   ]
  },
  {
   "cell_type": "markdown",
   "id": "8a9ffc08-3501-427a-9c73-32250c576984",
   "metadata": {},
   "source": [
    "<h1 id=\"（9）编程：创建员工类Employee，属性有姓名name、能力值ability、年龄age（能力值为100-年龄），方法有doWork()，该方法执行一次，该员工的能力值减5，创建str()方法，打印该员工的信息。\"><span style=\"color: #b96ad9;\">创建员工类Employee，属性有姓名name、能力值ability、年龄age（能力值为100-年龄），方法有doWork()，该方法执行一次，该员工的能力值减5，创建str()方法，打印该员工的信息。</span></h1>"
   ]
  },
  {
   "cell_type": "code",
   "execution_count": 57,
   "id": "aa7538dd-9f59-499e-822c-11e0ad03dd57",
   "metadata": {},
   "outputs": [
    {
     "name": "stdout",
     "output_type": "stream",
     "text": [
      "姓名：张三，年龄：25，能力值：75\n",
      "姓名：张三，年龄：25，能力值：70\n"
     ]
    }
   ],
   "source": [
    "class Employee:\n",
    "    # 初始化方法，设置姓名、年龄和能力值\n",
    "    def __init__(self, name, age):\n",
    "        self.name = name\n",
    "        self.age = age\n",
    "        self.ability = 100 - age\n",
    "\n",
    "    # doWork方法，执行一次，能力值减5\n",
    "    def doWork(self):\n",
    "        self.ability -= 5\n",
    "\n",
    "    # str方法，打印员工信息\n",
    "    def __str__(self):\n",
    "        return f\"姓名：{self.name}，年龄：{self.age}，能力值：{self.ability}\"\n",
    "\n",
    "# 创建一个员工对象，并打印其信息\n",
    "emp = Employee(\"张三\", 25)\n",
    "print(emp)\n",
    "\n",
    "# 调用doWork方法，并打印其信息\n",
    "emp.doWork()\n",
    "print(emp)"
   ]
  },
  {
   "cell_type": "markdown",
   "id": "659cea1a-07ac-4252-bcb1-f8e116d8b9fe",
   "metadata": {},
   "source": [
    "<h1 id=\"（10）打印所有的&ldquo;水仙花数&rdquo;，&ldquo;水仙花数&rdquo;是指一个三位数，其各位数字立方和等于该数本身，例如153是一个&ldquo;水仙花数&rdquo;，153=1^3+5^3+3^3。\"><span style=\"color: #b96ad9;\">打印所有的&ldquo;水仙花数&rdquo;，&ldquo;水仙花数&rdquo;是指一个三位数，其各位数字立方和等于该数本身，例如153是一个&ldquo;水仙花数&rdquo;，153=1^3+5^3+3^3。</span></h1>"
   ]
  },
  {
   "cell_type": "code",
   "execution_count": 58,
   "id": "bfbb15c9-49ea-4254-b4e3-3332cb81502e",
   "metadata": {},
   "outputs": [
    {
     "name": "stdout",
     "output_type": "stream",
     "text": [
      "153\n",
      "370\n",
      "371\n",
      "407\n"
     ]
    }
   ],
   "source": [
    "# 定义一个函数，判断一个数是否是水仙花数\n",
    "def is_narcissistic(num):\n",
    "    # 将数字转换为字符串，方便取出各位数字\n",
    "    num_str = str(num)\n",
    "    # 初始化立方和为0\n",
    "    cube_sum = 0\n",
    "    # 遍历字符串中的每个字符，即每个数字\n",
    "    for digit in num_str:\n",
    "        # 将字符转换为整数，并计算其立方，累加到立方和中\n",
    "        cube_sum += int(digit) ** 3\n",
    "    # 如果立方和等于原数，返回True，否则返回False\n",
    "    return cube_sum == num\n",
    "\n",
    "# 遍历所有三位数，从100到999\n",
    "for i in range(100, 1000):\n",
    "    # 如果是水仙花数，打印出来\n",
    "    if is_narcissistic(i):\n",
    "        print(i)"
   ]
  },
  {
   "cell_type": "markdown",
   "id": "e4113e71-eb69-4dd6-9b41-0dd59ab8c4e8",
   "metadata": {
    "jp-MarkdownHeadingCollapsed": true,
    "tags": []
   },
   "source": [
    "<h1 id=\"（11）验证角谷猜想：任意给一个自然数，若为偶数除以2，若为奇数则乘3加1，得到一个新的自然数然后按照上面的法则继续计算，若干次后得到的结果必然为1。要求，读入一个自然数，输出计算步骤。\"><span style=\"color: #b96ad9;\">验证角谷猜想：任意给一个自然数，若为偶数除以2，若为奇数则乘3加1，得到一个新的自然数然后按照上面的法则继续计算，若干次后得到的结果必然为1。要求，读入一个自然数，输出计算步骤。</span></h1>"
   ]
  },
  {
   "cell_type": "code",
   "execution_count": 4,
   "id": "3d9b1894-3259-4be4-938f-08cbb6d21057",
   "metadata": {
    "tags": []
   },
   "outputs": [
    {
     "name": "stdin",
     "output_type": "stream",
     "text": [
      "请输入一个自然数： 31\n"
     ]
    },
    {
     "name": "stdout",
     "output_type": "stream",
     "text": [
      "第1步：94\n",
      "第2步：47\n",
      "第3步：142\n",
      "第4步：71\n",
      "第5步：214\n",
      "第6步：107\n",
      "第7步：322\n",
      "第8步：161\n",
      "第9步：484\n",
      "第10步：242\n",
      "第11步：121\n",
      "第12步：364\n",
      "第13步：182\n",
      "第14步：91\n",
      "第15步：274\n",
      "第16步：137\n",
      "第17步：412\n",
      "第18步：206\n",
      "第19步：103\n",
      "第20步：310\n",
      "第21步：155\n",
      "第22步：466\n",
      "第23步：233\n",
      "第24步：700\n",
      "第25步：350\n",
      "第26步：175\n",
      "第27步：526\n",
      "第28步：263\n",
      "第29步：790\n",
      "第30步：395\n",
      "第31步：1186\n",
      "第32步：593\n",
      "第33步：1780\n",
      "第34步：890\n",
      "第35步：445\n",
      "第36步：1336\n",
      "第37步：668\n",
      "第38步：334\n",
      "第39步：167\n",
      "第40步：502\n",
      "第41步：251\n",
      "第42步：754\n",
      "第43步：377\n",
      "第44步：1132\n",
      "第45步：566\n",
      "第46步：283\n",
      "第47步：850\n",
      "第48步：425\n",
      "第49步：1276\n",
      "第50步：638\n",
      "第51步：319\n",
      "第52步：958\n",
      "第53步：479\n",
      "第54步：1438\n",
      "第55步：719\n",
      "第56步：2158\n",
      "第57步：1079\n",
      "第58步：3238\n",
      "第59步：1619\n",
      "第60步：4858\n",
      "第61步：2429\n",
      "第62步：7288\n",
      "第63步：3644\n",
      "第64步：1822\n",
      "第65步：911\n",
      "第66步：2734\n",
      "第67步：1367\n",
      "第68步：4102\n",
      "第69步：2051\n",
      "第70步：6154\n",
      "第71步：3077\n",
      "第72步：9232\n",
      "第73步：4616\n",
      "第74步：2308\n",
      "第75步：1154\n",
      "第76步：577\n",
      "第77步：1732\n",
      "第78步：866\n",
      "第79步：433\n",
      "第80步：1300\n",
      "第81步：650\n",
      "第82步：325\n",
      "第83步：976\n",
      "第84步：488\n",
      "第85步：244\n",
      "第86步：122\n",
      "第87步：61\n",
      "第88步：184\n",
      "第89步：92\n",
      "第90步：46\n",
      "第91步：23\n",
      "第92步：70\n",
      "第93步：35\n",
      "第94步：106\n",
      "第95步：53\n",
      "第96步：160\n",
      "第97步：80\n",
      "第98步：40\n",
      "第99步：20\n",
      "第100步：10\n",
      "第101步：5\n",
      "第102步：16\n",
      "第103步：8\n",
      "第104步：4\n",
      "第105步：2\n",
      "第106步：1\n",
      "最终结果为1，共计106步。\n"
     ]
    }
   ],
   "source": [
    "# 读入一个自然数\n",
    "num = int(input(\"请输入一个自然数：\"))\n",
    "\n",
    "# 定义一个变量，记录计算步骤\n",
    "step = 0\n",
    "\n",
    "# 循环，直到结果为1\n",
    "while num != 1:\n",
    "    # 如果是偶数，除以2\n",
    "    if num % 2 == 0:\n",
    "        num = num // 2\n",
    "    # 如果是奇数，乘3加1\n",
    "    else:\n",
    "        num = num * 3 + 1\n",
    "    # 计算步骤加1\n",
    "    step += 1\n",
    "    # 打印当前结果和步骤\n",
    "    print(f\"第{step}步：{num}\")\n",
    "\n",
    "# 打印最终结果和总步骤数\n",
    "print(f\"最终结果为{num}，共计{step}步。\")"
   ]
  },
  {
   "cell_type": "markdown",
   "id": "60a061af-502f-4339-9be8-96d02a65783a",
   "metadata": {},
   "source": [
    "<h1 id=\"（12）设计BMI类，用于计算身体质量指数，属性有姓名name，年龄age，身高Height，体重Weight。方法getBMI用于获取BMI指数（该指数等于体重（kg)除以身高(米)的平方）。方法getStatus用于获取身体状态，-BMI指数&lt;18.5为超轻，-18.5&le;BMI指数-＜25为标准，25-&le;-BMI指数＜30为超重，-BMI指数&ge;30为超胖。以自己的身高体重实例化。\"><span style=\"color: #b96ad9;\">设计BMI类，用于计算身体质量指数，属性有姓名name，年龄age，身高Height，体重Weight。方法getBMI用于获取BMI指数（该指数等于体重（kg)除以身高(米)的平方）。方法getStatus用于获取身体状态， BMI指数&lt;18.5为超轻， 18.5&le;BMI指数 ＜25为标准，25 &le; BMI指数＜30为超重， BMI指数&ge;30为超胖。以自己的身高体重实例化。</span></h1>"
   ]
  },
  {
   "cell_type": "code",
   "execution_count": 60,
   "id": "75b1363b-d6cc-4f34-89ce-513611e08efc",
   "metadata": {},
   "outputs": [
    {
     "name": "stdout",
     "output_type": "stream",
     "text": [
      "姓名：李四，年龄：20，身高：1.75米，体重：65公斤\n",
      "BMI指数：21.22\n",
      "身体状态：标准\n"
     ]
    }
   ],
   "source": [
    "class BMI:\n",
    "    # 初始化方法，设置姓名、年龄、身高和体重\n",
    "    def __init__(self, name, age, height, weight):\n",
    "        self.name = name\n",
    "        self.age = age\n",
    "        self.height = height\n",
    "        self.weight = weight\n",
    "\n",
    "    # getBMI方法，计算并返回BMI指数\n",
    "    def getBMI(self):\n",
    "        # BMI指数等于体重（kg)除以身高(米)的平方\n",
    "        bmi = self.weight / (self.height ** 2)\n",
    "        return bmi\n",
    "\n",
    "    # getStatus方法，根据BMI指数返回身体状态\n",
    "    def getStatus(self):\n",
    "        # 获取BMI指数\n",
    "        bmi = self.getBMI()\n",
    "        # 判断身体状态，并返回结果\n",
    "        if bmi < 18.5:\n",
    "            return \"超轻\"\n",
    "        elif bmi < 25:\n",
    "            return \"标准\"\n",
    "        elif bmi < 30:\n",
    "            return \"超重\"\n",
    "        else:\n",
    "            return \"超胖\"\n",
    "\n",
    "# 以自己的身高体重实例化一个BMI对象，并打印其信息\n",
    "bmi = BMI(\"李四\", 20, 1.75, 65)\n",
    "print(f\"姓名：{bmi.name}，年龄：{bmi.age}，身高：{bmi.height}米，体重：{bmi.weight}公斤\")\n",
    "print(f\"BMI指数：{bmi.getBMI():.2f}\")\n",
    "print(f\"身体状态：{bmi.getStatus()}\")"
   ]
  }
 ],
 "metadata": {
  "kernelspec": {
   "display_name": "Python 3 (ipykernel)",
   "language": "python",
   "name": "python3"
  },
  "language_info": {
   "codemirror_mode": {
    "name": "ipython",
    "version": 3
   },
   "file_extension": ".py",
   "mimetype": "text/x-python",
   "name": "python",
   "nbconvert_exporter": "python",
   "pygments_lexer": "ipython3",
   "version": "3.10.9"
  },
  "toc-autonumbering": true,
  "toc-showcode": false,
  "toc-showmarkdowntxt": false,
  "toc-showtags": false,
  "widgets": {
   "application/vnd.jupyter.widget-state+json": {
    "state": {},
    "version_major": 2,
    "version_minor": 0
   }
  }
 },
 "nbformat": 4,
 "nbformat_minor": 5
}
